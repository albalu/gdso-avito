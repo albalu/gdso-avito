{
 "cells": [
  {
   "cell_type": "markdown",
   "metadata": {},
   "source": [
    "# 08/02 train-rmse:0.233459;\tvalid-rmse:0.242779\n",
    "# 07/31 train-rmse:0.242975;\tvalid-rmse:0.249397"
   ]
  },
  {
   "cell_type": "markdown",
   "metadata": {},
   "source": [
    "- **V** Number of characters in title\n",
    "- **V** Number of characters in description\n",
    "- **V** tfidf of description\n",
    "- **V** tfidf of title\n",
    "- Param_1,2,3 if has param?\n",
    "\n",
    "\n",
    "\n",
    "- Number of words\n",
    "- Number of numbers. i.e. 2010\n",
    "- Average Word Length\n",
    "- Number of stopwords\n",
    "- Number of special characters\n",
    "\n",
    "- if the description is empty (replace with 'NA' string is fine. and then create another boolean feature)\n",
    "- try new features to see if the result improved\n",
    "- search for keywords in description of title. i.e. \"new\" or \"old\"\n",
    "- empty description will be 0 after tfidf?\n",
    "- check the predicted value, see if they fall into [0,1]"
   ]
  },
  {
   "cell_type": "code",
   "execution_count": 1,
   "metadata": {},
   "outputs": [],
   "source": [
    "import pandas as pd\n",
    "pd.set_option('precision', 5)\n",
    "pd.set_option('display.float_format', lambda x: '%.5f' % x)\n",
    "import numpy as np"
   ]
  },
  {
   "cell_type": "code",
   "execution_count": 2,
   "metadata": {},
   "outputs": [],
   "source": [
    "# load dataset\n",
    "train = pd.read_csv('data/train.csv')\n",
    "test = pd.read_csv('data/test.csv')"
   ]
  },
  {
   "cell_type": "raw",
   "metadata": {},
   "source": [
    "train.head()"
   ]
  },
  {
   "cell_type": "code",
   "execution_count": 3,
   "metadata": {},
   "outputs": [
    {
     "data": {
      "text/plain": [
       "True"
      ]
     },
     "execution_count": 3,
     "metadata": {},
     "output_type": "execute_result"
    }
   ],
   "source": [
    "train[\"item_id\"].is_unique"
   ]
  },
  {
   "cell_type": "markdown",
   "metadata": {},
   "source": [
    "## Get relevant columns"
   ]
  },
  {
   "cell_type": "code",
   "execution_count": 4,
   "metadata": {},
   "outputs": [],
   "source": [
    "def select_columns(data, *columns):\n",
    "    return data.loc[:, columns]\n",
    "\n",
    "#train=train[[\"item_id\",\"title\",\"description\",\"deal_probability\"]]\n",
    "#test=test[[\"item_id\",\"title\",\"description\"]]"
   ]
  },
  {
   "cell_type": "markdown",
   "metadata": {},
   "source": [
    "## Checking missing values"
   ]
  },
  {
   "cell_type": "code",
   "execution_count": 5,
   "metadata": {},
   "outputs": [
    {
     "data": {
      "text/plain": [
       "item_id                      0\n",
       "user_id                      0\n",
       "region                       0\n",
       "city                         0\n",
       "parent_category_name         0\n",
       "category_name                0\n",
       "param_1                  61576\n",
       "param_2                 654542\n",
       "param_3                 862565\n",
       "title                        0\n",
       "description             116276\n",
       "price                    85362\n",
       "item_seq_number              0\n",
       "activation_date              0\n",
       "user_type                    0\n",
       "image                   112588\n",
       "image_top_1             112588\n",
       "deal_probability             0\n",
       "dtype: int64"
      ]
     },
     "execution_count": 5,
     "metadata": {},
     "output_type": "execute_result"
    }
   ],
   "source": [
    "s=train.isnull()\n",
    "missing_counts_train = s[s == True].count()\n",
    "s=test.isnull()\n",
    "missing_counts_test = s[s == True].count()\n",
    "missing_counts_train"
   ]
  },
  {
   "cell_type": "code",
   "execution_count": 6,
   "metadata": {},
   "outputs": [
    {
     "data": {
      "text/plain": [
       "item_id                      0\n",
       "user_id                      0\n",
       "region                       0\n",
       "city                         0\n",
       "parent_category_name         0\n",
       "category_name                0\n",
       "param_1                  22910\n",
       "param_2                 233229\n",
       "param_3                 306331\n",
       "title                        0\n",
       "description                  0\n",
       "price                    30585\n",
       "item_seq_number              0\n",
       "activation_date              0\n",
       "user_type                    0\n",
       "image                    42609\n",
       "image_top_1              42609\n",
       "dtype: int64"
      ]
     },
     "execution_count": 6,
     "metadata": {},
     "output_type": "execute_result"
    }
   ],
   "source": [
    "missing_counts_test"
   ]
  },
  {
   "cell_type": "markdown",
   "metadata": {},
   "source": [
    "In the test dataset, there is not missing values in *description*. In other words, if *description* is empty or not might not be a good features?"
   ]
  },
  {
   "cell_type": "code",
   "execution_count": 7,
   "metadata": {},
   "outputs": [],
   "source": [
    "def fix_missing_desc(data):\n",
    "    data['description']=data['description'].fillna('NA')\n",
    "    return data\n",
    "\n",
    "def fix_missing_title(data):\n",
    "    data['title']=data['title'].fillna('NA')\n",
    "    return data"
   ]
  },
  {
   "cell_type": "markdown",
   "metadata": {},
   "source": [
    "## Add features"
   ]
  },
  {
   "cell_type": "code",
   "execution_count": 8,
   "metadata": {},
   "outputs": [],
   "source": [
    "def add_has_description(data):\n",
    "    def check_na(s):\n",
    "        if s==\"NA\":\n",
    "            return 0\n",
    "        else:\n",
    "            return 1\n",
    "        \n",
    "    data['has_desc'] = data[\"description\"].apply(check_na)\n",
    "    return data"
   ]
  },
  {
   "cell_type": "code",
   "execution_count": 9,
   "metadata": {},
   "outputs": [],
   "source": [
    "def add_char_len_title(data):\n",
    "    data['char_len_title'] = data[\"title\"].apply(lambda x: len(str(x)))\n",
    "    return data\n",
    "\n",
    "def add_char_len_desc(data):\n",
    "    data['char_len_desc'] = data[\"description\"].apply(lambda x: len(str(x)))\n",
    "    return data"
   ]
  },
  {
   "cell_type": "code",
   "execution_count": 10,
   "metadata": {},
   "outputs": [
    {
     "data": {
      "text/html": [
       "<div>\n",
       "<style scoped>\n",
       "    .dataframe tbody tr th:only-of-type {\n",
       "        vertical-align: middle;\n",
       "    }\n",
       "\n",
       "    .dataframe tbody tr th {\n",
       "        vertical-align: top;\n",
       "    }\n",
       "\n",
       "    .dataframe thead th {\n",
       "        text-align: right;\n",
       "    }\n",
       "</style>\n",
       "<table border=\"1\" class=\"dataframe\">\n",
       "  <thead>\n",
       "    <tr style=\"text-align: right;\">\n",
       "      <th></th>\n",
       "      <th>item_id</th>\n",
       "      <th>user_id</th>\n",
       "      <th>region</th>\n",
       "      <th>city</th>\n",
       "      <th>parent_category_name</th>\n",
       "      <th>category_name</th>\n",
       "      <th>param_1</th>\n",
       "      <th>param_2</th>\n",
       "      <th>param_3</th>\n",
       "      <th>title</th>\n",
       "      <th>description</th>\n",
       "      <th>price</th>\n",
       "      <th>item_seq_number</th>\n",
       "      <th>activation_date</th>\n",
       "      <th>user_type</th>\n",
       "      <th>image</th>\n",
       "      <th>image_top_1</th>\n",
       "      <th>deal_probability</th>\n",
       "    </tr>\n",
       "  </thead>\n",
       "  <tbody>\n",
       "    <tr>\n",
       "      <th>0</th>\n",
       "      <td>b912c3c6a6ad</td>\n",
       "      <td>e00f8ff2eaf9</td>\n",
       "      <td>Свердловская область</td>\n",
       "      <td>Екатеринбург</td>\n",
       "      <td>Личные вещи</td>\n",
       "      <td>Товары для детей и игрушки</td>\n",
       "      <td>Постельные принадлежности</td>\n",
       "      <td>NaN</td>\n",
       "      <td>NaN</td>\n",
       "      <td>Кокоби(кокон для сна)</td>\n",
       "      <td>Кокон для сна малыша,пользовались меньше месяц...</td>\n",
       "      <td>400.00000</td>\n",
       "      <td>2</td>\n",
       "      <td>2017-03-28</td>\n",
       "      <td>Private</td>\n",
       "      <td>d10c7e016e03247a3bf2d13348fe959fe6f436c1caf64c...</td>\n",
       "      <td>1008.00000</td>\n",
       "      <td>0.12789</td>\n",
       "    </tr>\n",
       "    <tr>\n",
       "      <th>1</th>\n",
       "      <td>2dac0150717d</td>\n",
       "      <td>39aeb48f0017</td>\n",
       "      <td>Самарская область</td>\n",
       "      <td>Самара</td>\n",
       "      <td>Для дома и дачи</td>\n",
       "      <td>Мебель и интерьер</td>\n",
       "      <td>Другое</td>\n",
       "      <td>NaN</td>\n",
       "      <td>NaN</td>\n",
       "      <td>Стойка для Одежды</td>\n",
       "      <td>Стойка для одежды, под вешалки. С бутика.</td>\n",
       "      <td>3000.00000</td>\n",
       "      <td>19</td>\n",
       "      <td>2017-03-26</td>\n",
       "      <td>Private</td>\n",
       "      <td>79c9392cc51a9c81c6eb91eceb8e552171db39d7142700...</td>\n",
       "      <td>692.00000</td>\n",
       "      <td>0.00000</td>\n",
       "    </tr>\n",
       "    <tr>\n",
       "      <th>2</th>\n",
       "      <td>ba83aefab5dc</td>\n",
       "      <td>91e2f88dd6e3</td>\n",
       "      <td>Ростовская область</td>\n",
       "      <td>Ростов-на-Дону</td>\n",
       "      <td>Бытовая электроника</td>\n",
       "      <td>Аудио и видео</td>\n",
       "      <td>Видео, DVD и Blu-ray плееры</td>\n",
       "      <td>NaN</td>\n",
       "      <td>NaN</td>\n",
       "      <td>Philips bluray</td>\n",
       "      <td>В хорошем состоянии, домашний кинотеатр с blu ...</td>\n",
       "      <td>4000.00000</td>\n",
       "      <td>9</td>\n",
       "      <td>2017-03-20</td>\n",
       "      <td>Private</td>\n",
       "      <td>b7f250ee3f39e1fedd77c141f273703f4a9be59db4b48a...</td>\n",
       "      <td>3032.00000</td>\n",
       "      <td>0.43177</td>\n",
       "    </tr>\n",
       "    <tr>\n",
       "      <th>3</th>\n",
       "      <td>02996f1dd2ea</td>\n",
       "      <td>bf5cccea572d</td>\n",
       "      <td>Татарстан</td>\n",
       "      <td>Набережные Челны</td>\n",
       "      <td>Личные вещи</td>\n",
       "      <td>Товары для детей и игрушки</td>\n",
       "      <td>Автомобильные кресла</td>\n",
       "      <td>NaN</td>\n",
       "      <td>NaN</td>\n",
       "      <td>Автокресло</td>\n",
       "      <td>Продам кресло от0-25кг</td>\n",
       "      <td>2200.00000</td>\n",
       "      <td>286</td>\n",
       "      <td>2017-03-25</td>\n",
       "      <td>Company</td>\n",
       "      <td>e6ef97e0725637ea84e3d203e82dadb43ed3cc0a1c8413...</td>\n",
       "      <td>796.00000</td>\n",
       "      <td>0.80323</td>\n",
       "    </tr>\n",
       "    <tr>\n",
       "      <th>4</th>\n",
       "      <td>7c90be56d2ab</td>\n",
       "      <td>ef50846afc0b</td>\n",
       "      <td>Волгоградская область</td>\n",
       "      <td>Волгоград</td>\n",
       "      <td>Транспорт</td>\n",
       "      <td>Автомобили</td>\n",
       "      <td>С пробегом</td>\n",
       "      <td>ВАЗ (LADA)</td>\n",
       "      <td>2110</td>\n",
       "      <td>ВАЗ 2110, 2003</td>\n",
       "      <td>Все вопросы по телефону.</td>\n",
       "      <td>40000.00000</td>\n",
       "      <td>3</td>\n",
       "      <td>2017-03-16</td>\n",
       "      <td>Private</td>\n",
       "      <td>54a687a3a0fc1d68aed99bdaaf551c5c70b761b16fd0a2...</td>\n",
       "      <td>2264.00000</td>\n",
       "      <td>0.20797</td>\n",
       "    </tr>\n",
       "  </tbody>\n",
       "</table>\n",
       "</div>"
      ],
      "text/plain": [
       "        item_id       user_id                 region              city  \\\n",
       "0  b912c3c6a6ad  e00f8ff2eaf9   Свердловская область      Екатеринбург   \n",
       "1  2dac0150717d  39aeb48f0017      Самарская область            Самара   \n",
       "2  ba83aefab5dc  91e2f88dd6e3     Ростовская область    Ростов-на-Дону   \n",
       "3  02996f1dd2ea  bf5cccea572d              Татарстан  Набережные Челны   \n",
       "4  7c90be56d2ab  ef50846afc0b  Волгоградская область         Волгоград   \n",
       "\n",
       "  parent_category_name               category_name  \\\n",
       "0          Личные вещи  Товары для детей и игрушки   \n",
       "1      Для дома и дачи           Мебель и интерьер   \n",
       "2  Бытовая электроника               Аудио и видео   \n",
       "3          Личные вещи  Товары для детей и игрушки   \n",
       "4            Транспорт                  Автомобили   \n",
       "\n",
       "                       param_1     param_2 param_3                  title  \\\n",
       "0    Постельные принадлежности         NaN     NaN  Кокоби(кокон для сна)   \n",
       "1                       Другое         NaN     NaN      Стойка для Одежды   \n",
       "2  Видео, DVD и Blu-ray плееры         NaN     NaN         Philips bluray   \n",
       "3         Автомобильные кресла         NaN     NaN             Автокресло   \n",
       "4                   С пробегом  ВАЗ (LADA)    2110         ВАЗ 2110, 2003   \n",
       "\n",
       "                                         description       price  \\\n",
       "0  Кокон для сна малыша,пользовались меньше месяц...   400.00000   \n",
       "1          Стойка для одежды, под вешалки. С бутика.  3000.00000   \n",
       "2  В хорошем состоянии, домашний кинотеатр с blu ...  4000.00000   \n",
       "3                             Продам кресло от0-25кг  2200.00000   \n",
       "4                           Все вопросы по телефону. 40000.00000   \n",
       "\n",
       "   item_seq_number activation_date user_type  \\\n",
       "0                2      2017-03-28   Private   \n",
       "1               19      2017-03-26   Private   \n",
       "2                9      2017-03-20   Private   \n",
       "3              286      2017-03-25   Company   \n",
       "4                3      2017-03-16   Private   \n",
       "\n",
       "                                               image  image_top_1  \\\n",
       "0  d10c7e016e03247a3bf2d13348fe959fe6f436c1caf64c...   1008.00000   \n",
       "1  79c9392cc51a9c81c6eb91eceb8e552171db39d7142700...    692.00000   \n",
       "2  b7f250ee3f39e1fedd77c141f273703f4a9be59db4b48a...   3032.00000   \n",
       "3  e6ef97e0725637ea84e3d203e82dadb43ed3cc0a1c8413...    796.00000   \n",
       "4  54a687a3a0fc1d68aed99bdaaf551c5c70b761b16fd0a2...   2264.00000   \n",
       "\n",
       "   deal_probability  \n",
       "0           0.12789  \n",
       "1           0.00000  \n",
       "2           0.43177  \n",
       "3           0.80323  \n",
       "4           0.20797  "
      ]
     },
     "execution_count": 10,
     "metadata": {},
     "output_type": "execute_result"
    }
   ],
   "source": [
    "train.head()"
   ]
  },
  {
   "cell_type": "code",
   "execution_count": 11,
   "metadata": {},
   "outputs": [],
   "source": [
    "import nltk\n",
    "from nltk.corpus import stopwords\n",
    "stopWords = stopwords.words('russian')"
   ]
  },
  {
   "cell_type": "code",
   "execution_count": 12,
   "metadata": {},
   "outputs": [
    {
     "data": {
      "text/plain": [
       "dtype('O')"
      ]
     },
     "execution_count": 12,
     "metadata": {},
     "output_type": "execute_result"
    }
   ],
   "source": [
    "# need to change data type from object to unicode\n",
    "train[\"description\"].dtype"
   ]
  },
  {
   "cell_type": "markdown",
   "metadata": {},
   "source": [
    "## Lowercase"
   ]
  },
  {
   "cell_type": "code",
   "execution_count": 13,
   "metadata": {},
   "outputs": [],
   "source": [
    "def change_lowercase_title(data):\n",
    "    data[\"title\"] = data[\"title\"].str.lower()\n",
    "    return data\n",
    "\n",
    "def change_lowercase_desc(data):\n",
    "    data[\"description\"] = data[\"description\"].str.lower()\n",
    "    return data"
   ]
  },
  {
   "cell_type": "markdown",
   "metadata": {},
   "source": [
    "## Remove stopwords"
   ]
  },
  {
   "cell_type": "code",
   "execution_count": 14,
   "metadata": {},
   "outputs": [],
   "source": [
    "#def remove_stopwords_title(data, stopwords):\n",
    "#    data[\"title\"] = data[\"title\"].str.lower()\n",
    "#    return data\n",
    "\n",
    "#def change_des_lowercase(data):\n",
    "#    data[\"description\"] = data[\"description\"].str.lower()\n",
    "#    return data"
   ]
  },
  {
   "cell_type": "markdown",
   "metadata": {},
   "source": [
    "## Tokenized"
   ]
  },
  {
   "cell_type": "code",
   "execution_count": null,
   "metadata": {},
   "outputs": [],
   "source": []
  },
  {
   "cell_type": "markdown",
   "metadata": {},
   "source": [
    "## Morphological analyzer for Russian language (3hr)"
   ]
  },
  {
   "cell_type": "code",
   "execution_count": 15,
   "metadata": {},
   "outputs": [],
   "source": [
    "def add_normalize_morph_title(data):\n",
    "    import re\n",
    "    import pymorphy2\n",
    "    morph = pymorphy2.MorphAnalyzer()\n",
    "    retoken = re.compile(r'[\\'\\w\\-]+')\n",
    "    \n",
    "    def get_words(s):\n",
    "        list_words = retoken.findall(s)\n",
    "        return ' '.join([morph.parse(x)[0].normal_form for x in list_words])  \n",
    "    \n",
    "    data[\"title_norm\"] = data[\"title\"].apply(get_words)\n",
    "    return data\n",
    "\n",
    "def add_normalize_morph_desc(data):\n",
    "    import re\n",
    "    import pymorphy2\n",
    "    morph = pymorphy2.MorphAnalyzer()\n",
    "    retoken = re.compile(r'[\\'\\w\\-]+')\n",
    "    \n",
    "    def get_words(s):\n",
    "        list_words = retoken.findall(s)\n",
    "        return ' '.join([morph.parse(x)[0].normal_form for x in list_words])  \n",
    "    \n",
    "    data[\"desc_norm\"] = data[\"description\"].apply(get_words)\n",
    "    return data\n",
    "\n",
    "#train['title'] = train['title'].astype(str)\n",
    "#train['description'] = train['description'].astype(str)\n",
    "\n",
    "#train['title'] = train['title'].apply(normalize)\n",
    "#train['description'] = train['description'].apply(normalize)"
   ]
  },
  {
   "cell_type": "code",
   "execution_count": 16,
   "metadata": {},
   "outputs": [
    {
     "ename": "ModuleNotFoundError",
     "evalue": "No module named 'pymorphy2'",
     "output_type": "error",
     "traceback": [
      "\u001b[0;31m---------------------------------------------------------------------------\u001b[0m",
      "\u001b[0;31mModuleNotFoundError\u001b[0m                       Traceback (most recent call last)",
      "\u001b[0;32m<ipython-input-16-6ec8200b4fcc>\u001b[0m in \u001b[0;36m<module>\u001b[0;34m()\u001b[0m\n\u001b[0;32m----> 1\u001b[0;31m \u001b[0madd_normalize_morph_desc\u001b[0m\u001b[0;34m(\u001b[0m\u001b[0mtrain\u001b[0m\u001b[0;34m[\u001b[0m\u001b[0;34m:\u001b[0m\u001b[0;36m5\u001b[0m\u001b[0;34m]\u001b[0m\u001b[0;34m)\u001b[0m\u001b[0;34m\u001b[0m\u001b[0m\n\u001b[0m",
      "\u001b[0;32m<ipython-input-15-22c5a7770a49>\u001b[0m in \u001b[0;36madd_normalize_morph_desc\u001b[0;34m(data)\u001b[0m\n\u001b[1;32m     14\u001b[0m \u001b[0;32mdef\u001b[0m \u001b[0madd_normalize_morph_desc\u001b[0m\u001b[0;34m(\u001b[0m\u001b[0mdata\u001b[0m\u001b[0;34m)\u001b[0m\u001b[0;34m:\u001b[0m\u001b[0;34m\u001b[0m\u001b[0m\n\u001b[1;32m     15\u001b[0m     \u001b[0;32mimport\u001b[0m \u001b[0mre\u001b[0m\u001b[0;34m\u001b[0m\u001b[0m\n\u001b[0;32m---> 16\u001b[0;31m     \u001b[0;32mimport\u001b[0m \u001b[0mpymorphy2\u001b[0m\u001b[0;34m\u001b[0m\u001b[0m\n\u001b[0m\u001b[1;32m     17\u001b[0m     \u001b[0mmorph\u001b[0m \u001b[0;34m=\u001b[0m \u001b[0mpymorphy2\u001b[0m\u001b[0;34m.\u001b[0m\u001b[0mMorphAnalyzer\u001b[0m\u001b[0;34m(\u001b[0m\u001b[0;34m)\u001b[0m\u001b[0;34m\u001b[0m\u001b[0m\n\u001b[1;32m     18\u001b[0m     \u001b[0mretoken\u001b[0m \u001b[0;34m=\u001b[0m \u001b[0mre\u001b[0m\u001b[0;34m.\u001b[0m\u001b[0mcompile\u001b[0m\u001b[0;34m(\u001b[0m\u001b[0;34mr'[\\'\\w\\-]+'\u001b[0m\u001b[0;34m)\u001b[0m\u001b[0;34m\u001b[0m\u001b[0m\n",
      "\u001b[0;31mModuleNotFoundError\u001b[0m: No module named 'pymorphy2'"
     ]
    }
   ],
   "source": [
    "add_normalize_morph_desc(train[:5])"
   ]
  },
  {
   "cell_type": "markdown",
   "metadata": {},
   "source": [
    "## TF-IDF"
   ]
  },
  {
   "cell_type": "code",
   "execution_count": 17,
   "metadata": {},
   "outputs": [],
   "source": [
    "from sklearn.feature_extraction.text import CountVectorizer, TfidfVectorizer\n",
    "\n",
    "# tfidf for title\n",
    "def add_tfidf_title(data, num=100):\n",
    "    tfidf = TfidfVectorizer(max_features=100, stop_words = stopWords)\n",
    "    tfidf_title_train = np.array(tfidf.fit_transform(data['title'].values.astype('U')).todense(), dtype=np.float16)\n",
    "    for i in range(num):\n",
    "        data['tfidf_title_' + str(i)] = tfidf_title_train[:, i]\n",
    "    return data\n",
    "\n",
    "# tfidf for description\n",
    "def add_tfidf_desc(data, num=100):\n",
    "    tfidf = TfidfVectorizer(max_features=100, stop_words = stopWords)\n",
    "    tfidf_des_train = np.array(tfidf.fit_transform(data['description'].values.astype('U')).todense(), dtype=np.float16)\n",
    "    for i in range(num):\n",
    "        data['tfidf_des_' + str(i)] = tfidf_des_train[:, i]\n",
    "    return data"
   ]
  },
  {
   "cell_type": "code",
   "execution_count": 18,
   "metadata": {},
   "outputs": [
    {
     "data": {
      "text/html": [
       "<div>\n",
       "<style scoped>\n",
       "    .dataframe tbody tr th:only-of-type {\n",
       "        vertical-align: middle;\n",
       "    }\n",
       "\n",
       "    .dataframe tbody tr th {\n",
       "        vertical-align: top;\n",
       "    }\n",
       "\n",
       "    .dataframe thead th {\n",
       "        text-align: right;\n",
       "    }\n",
       "</style>\n",
       "<table border=\"1\" class=\"dataframe\">\n",
       "  <thead>\n",
       "    <tr style=\"text-align: right;\">\n",
       "      <th></th>\n",
       "      <th>item_id</th>\n",
       "      <th>user_id</th>\n",
       "      <th>region</th>\n",
       "      <th>city</th>\n",
       "      <th>parent_category_name</th>\n",
       "      <th>category_name</th>\n",
       "      <th>param_1</th>\n",
       "      <th>param_2</th>\n",
       "      <th>param_3</th>\n",
       "      <th>title</th>\n",
       "      <th>description</th>\n",
       "      <th>price</th>\n",
       "      <th>item_seq_number</th>\n",
       "      <th>activation_date</th>\n",
       "      <th>user_type</th>\n",
       "      <th>image</th>\n",
       "      <th>image_top_1</th>\n",
       "      <th>deal_probability</th>\n",
       "    </tr>\n",
       "  </thead>\n",
       "  <tbody>\n",
       "    <tr>\n",
       "      <th>0</th>\n",
       "      <td>b912c3c6a6ad</td>\n",
       "      <td>e00f8ff2eaf9</td>\n",
       "      <td>Свердловская область</td>\n",
       "      <td>Екатеринбург</td>\n",
       "      <td>Личные вещи</td>\n",
       "      <td>Товары для детей и игрушки</td>\n",
       "      <td>Постельные принадлежности</td>\n",
       "      <td>NaN</td>\n",
       "      <td>NaN</td>\n",
       "      <td>Кокоби(кокон для сна)</td>\n",
       "      <td>Кокон для сна малыша,пользовались меньше месяц...</td>\n",
       "      <td>400.00000</td>\n",
       "      <td>2</td>\n",
       "      <td>2017-03-28</td>\n",
       "      <td>Private</td>\n",
       "      <td>d10c7e016e03247a3bf2d13348fe959fe6f436c1caf64c...</td>\n",
       "      <td>1008.00000</td>\n",
       "      <td>0.12789</td>\n",
       "    </tr>\n",
       "    <tr>\n",
       "      <th>1</th>\n",
       "      <td>2dac0150717d</td>\n",
       "      <td>39aeb48f0017</td>\n",
       "      <td>Самарская область</td>\n",
       "      <td>Самара</td>\n",
       "      <td>Для дома и дачи</td>\n",
       "      <td>Мебель и интерьер</td>\n",
       "      <td>Другое</td>\n",
       "      <td>NaN</td>\n",
       "      <td>NaN</td>\n",
       "      <td>Стойка для Одежды</td>\n",
       "      <td>Стойка для одежды, под вешалки. С бутика.</td>\n",
       "      <td>3000.00000</td>\n",
       "      <td>19</td>\n",
       "      <td>2017-03-26</td>\n",
       "      <td>Private</td>\n",
       "      <td>79c9392cc51a9c81c6eb91eceb8e552171db39d7142700...</td>\n",
       "      <td>692.00000</td>\n",
       "      <td>0.00000</td>\n",
       "    </tr>\n",
       "    <tr>\n",
       "      <th>2</th>\n",
       "      <td>ba83aefab5dc</td>\n",
       "      <td>91e2f88dd6e3</td>\n",
       "      <td>Ростовская область</td>\n",
       "      <td>Ростов-на-Дону</td>\n",
       "      <td>Бытовая электроника</td>\n",
       "      <td>Аудио и видео</td>\n",
       "      <td>Видео, DVD и Blu-ray плееры</td>\n",
       "      <td>NaN</td>\n",
       "      <td>NaN</td>\n",
       "      <td>Philips bluray</td>\n",
       "      <td>В хорошем состоянии, домашний кинотеатр с blu ...</td>\n",
       "      <td>4000.00000</td>\n",
       "      <td>9</td>\n",
       "      <td>2017-03-20</td>\n",
       "      <td>Private</td>\n",
       "      <td>b7f250ee3f39e1fedd77c141f273703f4a9be59db4b48a...</td>\n",
       "      <td>3032.00000</td>\n",
       "      <td>0.43177</td>\n",
       "    </tr>\n",
       "    <tr>\n",
       "      <th>3</th>\n",
       "      <td>02996f1dd2ea</td>\n",
       "      <td>bf5cccea572d</td>\n",
       "      <td>Татарстан</td>\n",
       "      <td>Набережные Челны</td>\n",
       "      <td>Личные вещи</td>\n",
       "      <td>Товары для детей и игрушки</td>\n",
       "      <td>Автомобильные кресла</td>\n",
       "      <td>NaN</td>\n",
       "      <td>NaN</td>\n",
       "      <td>Автокресло</td>\n",
       "      <td>Продам кресло от0-25кг</td>\n",
       "      <td>2200.00000</td>\n",
       "      <td>286</td>\n",
       "      <td>2017-03-25</td>\n",
       "      <td>Company</td>\n",
       "      <td>e6ef97e0725637ea84e3d203e82dadb43ed3cc0a1c8413...</td>\n",
       "      <td>796.00000</td>\n",
       "      <td>0.80323</td>\n",
       "    </tr>\n",
       "    <tr>\n",
       "      <th>4</th>\n",
       "      <td>7c90be56d2ab</td>\n",
       "      <td>ef50846afc0b</td>\n",
       "      <td>Волгоградская область</td>\n",
       "      <td>Волгоград</td>\n",
       "      <td>Транспорт</td>\n",
       "      <td>Автомобили</td>\n",
       "      <td>С пробегом</td>\n",
       "      <td>ВАЗ (LADA)</td>\n",
       "      <td>2110</td>\n",
       "      <td>ВАЗ 2110, 2003</td>\n",
       "      <td>Все вопросы по телефону.</td>\n",
       "      <td>40000.00000</td>\n",
       "      <td>3</td>\n",
       "      <td>2017-03-16</td>\n",
       "      <td>Private</td>\n",
       "      <td>54a687a3a0fc1d68aed99bdaaf551c5c70b761b16fd0a2...</td>\n",
       "      <td>2264.00000</td>\n",
       "      <td>0.20797</td>\n",
       "    </tr>\n",
       "  </tbody>\n",
       "</table>\n",
       "</div>"
      ],
      "text/plain": [
       "        item_id       user_id                 region              city  \\\n",
       "0  b912c3c6a6ad  e00f8ff2eaf9   Свердловская область      Екатеринбург   \n",
       "1  2dac0150717d  39aeb48f0017      Самарская область            Самара   \n",
       "2  ba83aefab5dc  91e2f88dd6e3     Ростовская область    Ростов-на-Дону   \n",
       "3  02996f1dd2ea  bf5cccea572d              Татарстан  Набережные Челны   \n",
       "4  7c90be56d2ab  ef50846afc0b  Волгоградская область         Волгоград   \n",
       "\n",
       "  parent_category_name               category_name  \\\n",
       "0          Личные вещи  Товары для детей и игрушки   \n",
       "1      Для дома и дачи           Мебель и интерьер   \n",
       "2  Бытовая электроника               Аудио и видео   \n",
       "3          Личные вещи  Товары для детей и игрушки   \n",
       "4            Транспорт                  Автомобили   \n",
       "\n",
       "                       param_1     param_2 param_3                  title  \\\n",
       "0    Постельные принадлежности         NaN     NaN  Кокоби(кокон для сна)   \n",
       "1                       Другое         NaN     NaN      Стойка для Одежды   \n",
       "2  Видео, DVD и Blu-ray плееры         NaN     NaN         Philips bluray   \n",
       "3         Автомобильные кресла         NaN     NaN             Автокресло   \n",
       "4                   С пробегом  ВАЗ (LADA)    2110         ВАЗ 2110, 2003   \n",
       "\n",
       "                                         description       price  \\\n",
       "0  Кокон для сна малыша,пользовались меньше месяц...   400.00000   \n",
       "1          Стойка для одежды, под вешалки. С бутика.  3000.00000   \n",
       "2  В хорошем состоянии, домашний кинотеатр с blu ...  4000.00000   \n",
       "3                             Продам кресло от0-25кг  2200.00000   \n",
       "4                           Все вопросы по телефону. 40000.00000   \n",
       "\n",
       "   item_seq_number activation_date user_type  \\\n",
       "0                2      2017-03-28   Private   \n",
       "1               19      2017-03-26   Private   \n",
       "2                9      2017-03-20   Private   \n",
       "3              286      2017-03-25   Company   \n",
       "4                3      2017-03-16   Private   \n",
       "\n",
       "                                               image  image_top_1  \\\n",
       "0  d10c7e016e03247a3bf2d13348fe959fe6f436c1caf64c...   1008.00000   \n",
       "1  79c9392cc51a9c81c6eb91eceb8e552171db39d7142700...    692.00000   \n",
       "2  b7f250ee3f39e1fedd77c141f273703f4a9be59db4b48a...   3032.00000   \n",
       "3  e6ef97e0725637ea84e3d203e82dadb43ed3cc0a1c8413...    796.00000   \n",
       "4  54a687a3a0fc1d68aed99bdaaf551c5c70b761b16fd0a2...   2264.00000   \n",
       "\n",
       "   deal_probability  \n",
       "0           0.12789  \n",
       "1           0.00000  \n",
       "2           0.43177  \n",
       "3           0.80323  \n",
       "4           0.20797  "
      ]
     },
     "execution_count": 18,
     "metadata": {},
     "output_type": "execute_result"
    }
   ],
   "source": [
    "train.head()"
   ]
  },
  {
   "cell_type": "markdown",
   "metadata": {},
   "source": [
    "## Reusable Pipeline"
   ]
  },
  {
   "cell_type": "code",
   "execution_count": 19,
   "metadata": {},
   "outputs": [],
   "source": [
    "def process_data(data):\n",
    "\n",
    "    data = (\n",
    "        data\n",
    "        # Clean Data\n",
    "        .pipe(fix_missing_title)\n",
    "        .pipe(fix_missing_desc)\n",
    "        .pipe(change_lowercase_title)\n",
    "        .pipe(change_lowercase_desc)\n",
    "        \n",
    "        # Transform data\n",
    "        .pipe(select_columns, \n",
    "              \"item_id\",\n",
    "              \"title\",\n",
    "              \"description\",\n",
    "              \"deal_probability\"\n",
    "             )\n",
    "        .pipe(add_char_len_title)\n",
    "        .pipe(add_char_len_desc)\n",
    "        .pipe(add_tfidf_title)\n",
    "        .pipe(add_tfidf_desc)\n",
    "        #.pipe(add_keywords_desc)\n",
    "        .pipe(add_has_description)\n",
    "    ) \n",
    "    \n",
    "    # Return predictors and response variables separately\n",
    "    X = data.drop(['deal_probability'], axis = 1)\n",
    "    y = data['deal_probability'] # all nan if not exist \n",
    "    \n",
    "    return X, y"
   ]
  },
  {
   "cell_type": "code",
   "execution_count": 20,
   "metadata": {},
   "outputs": [],
   "source": [
    "X_train, y_train = process_data(train)"
   ]
  },
  {
   "cell_type": "code",
   "execution_count": 21,
   "metadata": {},
   "outputs": [
    {
     "name": "stderr",
     "output_type": "stream",
     "text": [
      "/Users/zexuanxu/anaconda3/lib/python3.6/site-packages/pandas/core/indexing.py:870: FutureWarning: \n",
      "Passing list-likes to .loc or [] with any missing label will raise\n",
      "KeyError in the future, you can use .reindex() as an alternative.\n",
      "\n",
      "See the documentation here:\n",
      "https://pandas.pydata.org/pandas-docs/stable/indexing.html#deprecate-loc-reindex-listlike\n",
      "  return self._getitem_lowerdim(tup)\n"
     ]
    }
   ],
   "source": [
    "X_test, y_test = process_data(test)"
   ]
  },
  {
   "cell_type": "markdown",
   "metadata": {},
   "source": [
    "## split train and validation dataset"
   ]
  },
  {
   "cell_type": "code",
   "execution_count": 22,
   "metadata": {},
   "outputs": [],
   "source": [
    "X_train = X_train.drop(['item_id','title','description'],axis=1)\n",
    "X_test = X_test.drop(['item_id','title','description'],axis=1)"
   ]
  },
  {
   "cell_type": "code",
   "execution_count": 23,
   "metadata": {},
   "outputs": [],
   "source": [
    "X_train.to_csv('NLP_X_train.csv')\n",
    "X_test.to_csv('NLP_X_test.csv')\n",
    "y_train.to_csv('NLP_y_train.csv')\n",
    "y_test.to_csv('NLP_y_test.csv')\n"
   ]
  },
  {
   "cell_type": "code",
   "execution_count": 23,
   "metadata": {},
   "outputs": [
    {
     "name": "stdout",
     "output_type": "stream",
     "text": [
      "(1202739, 212) (300685, 212) (1202739,) (300685,)\n"
     ]
    }
   ],
   "source": [
    "# split train and test dataset\n",
    "from sklearn.model_selection import train_test_split\n",
    "\n",
    "# for training and validating model\n",
    "X_train, X_val, y_train, y_val = train_test_split(X_train, y_train, test_size=0.2, random_state=99)\n",
    "\n",
    "\n",
    "print(X_train.shape, X_val.shape, y_train.shape, y_val.shape)"
   ]
  },
  {
   "cell_type": "code",
   "execution_count": 26,
   "metadata": {},
   "outputs": [],
   "source": [
    "X_train = X_train.drop(['has_desc'],axis=1)\n",
    "X_val = X_val.drop(['has_desc'],axis=1)"
   ]
  },
  {
   "cell_type": "code",
   "execution_count": null,
   "metadata": {},
   "outputs": [
    {
     "name": "stdout",
     "output_type": "stream",
     "text": [
      "[0]\ttrain-rmse:0.359706\tvalid-rmse:0.360279\n",
      "Multiple eval metrics have been passed: 'valid-rmse' will be used for early stopping.\n",
      "\n",
      "Will train until valid-rmse hasn't improved in 25 rounds.\n",
      "[5]\ttrain-rmse:0.24826\tvalid-rmse:0.251583\n",
      "[10]\ttrain-rmse:0.24023\tvalid-rmse:0.245175\n",
      "[15]\ttrain-rmse:0.238014\tvalid-rmse:0.24448\n",
      "[20]\ttrain-rmse:0.236339\tvalid-rmse:0.24443\n",
      "[25]\ttrain-rmse:0.23504\tvalid-rmse:0.244482\n",
      "[30]\ttrain-rmse:0.23375\tvalid-rmse:0.244594\n",
      "[35]\ttrain-rmse:0.232547\tvalid-rmse:0.244709\n",
      "[40]\ttrain-rmse:0.231484\tvalid-rmse:0.244835\n"
     ]
    }
   ],
   "source": [
    "import xgboost as xgb\n",
    "\n",
    "# grid search result\n",
    "params = {'eta': 0.3,\n",
    "          'tree_method': \"hist\",\n",
    "          'grow_policy': \"lossguide\",\n",
    "          'max_leaves': 1400,  \n",
    "          'max_depth': 0, \n",
    "          'subsample': 0.9, \n",
    "          'colsample_bytree': 0.7, \n",
    "          'colsample_bylevel':0.7,\n",
    "          'min_child_weight':0,\n",
    "          'alpha':4,\n",
    "          'objective': 'reg:logistic', \n",
    "          'eval_metric': 'rmse', \n",
    "          'random_state': 99, \n",
    "          'silent': True}\n",
    "\n",
    "tr_data = xgb.DMatrix(X_train, y_train)\n",
    "va_data = xgb.DMatrix(X_val, y_val)\n",
    "#del X_train\n",
    "#del X_val\n",
    "#del y_train\n",
    "#del y_val\n",
    "import gc\n",
    "gc.collect()\n",
    "\n",
    "watchlist = [(tr_data, 'train'), (va_data, 'valid')]\n",
    "\n",
    "model = xgb.train(params, tr_data, 1000, watchlist, maximize=False, early_stopping_rounds = 25, verbose_eval=5)"
   ]
  },
  {
   "cell_type": "code",
   "execution_count": null,
   "metadata": {},
   "outputs": [],
   "source": [
    "X_test.head()"
   ]
  },
  {
   "cell_type": "code",
   "execution_count": null,
   "metadata": {},
   "outputs": [],
   "source": [
    "# generate result for test dataset\n",
    "\n",
    "X_test_dmatrix = xgb.DMatrix(X_test)\n",
    "y_pred = model.predict(X_test_dmatrix, ntree_limit=model.best_ntree_limit)\n",
    "sub = pd.read_csv('data/sample_submission2.csv')\n",
    "sub['deal_probability'] = y_pred\n",
    "sub['deal_probability'].clip(0.0, 1.0, inplace=True)\n",
    "sub.to_csv('data/nlp.csv', index=False)\n",
    "sub.head()"
   ]
  },
  {
   "cell_type": "code",
   "execution_count": null,
   "metadata": {},
   "outputs": [],
   "source": [
    "# plotting \n",
    "\n",
    "#from xgboost import plot_importance\n",
    "#import matplotlib.pyplot as plt\n",
    "#plot_importance(model)\n",
    "#plt.gcf().savefig('feature_importance_xgb.png')\n"
   ]
  },
  {
   "cell_type": "markdown",
   "metadata": {},
   "source": [
    "## Translate top words\n",
    "А а, Б б, В в, Г г, Д д, Е е, Ё ё, Ж ж, З з, И и, Й й, К к, Л л, М м, Н н, О о, П п, Р р, С с, Т т, У у, Ф ф, Х х, Ц ц, Ч ч, Ш ш, Щ щ, Ъ ъ, Ы ы, Ь ь, Э э, Ю ю, Я я"
   ]
  },
  {
   "cell_type": "code",
   "execution_count": null,
   "metadata": {},
   "outputs": [],
   "source": [
    "tfidfvec=TfidfVectorizer()\n",
    "dtm_tfidf_train=tfidfvec.fit_transform(train[\"description\"])\n",
    "dtm_tfidf_test = tfidfvec.transform(test[\"description\"])\n",
    "# get words\n",
    "tfidfvec.get_feature_names()"
   ]
  },
  {
   "cell_type": "code",
   "execution_count": null,
   "metadata": {},
   "outputs": [],
   "source": [
    "from sklearn.feature_extraction.text import TfidfVectorizer\n",
    "vec = TfidfVectorizer(max_features=100, stop_words = stopWords, analyzer=\"word\", token_pattern=\"[^0-9\\s]{2,}\")\n",
    "tfidf = vec.fit_transform(train[\"description\"])\n",
    "potential_words=vec.get_feature_names()\n",
    "len(potential_words)"
   ]
  },
  {
   "cell_type": "code",
   "execution_count": null,
   "metadata": {},
   "outputs": [],
   "source": [
    "potential_words"
   ]
  },
  {
   "cell_type": "code",
   "execution_count": null,
   "metadata": {},
   "outputs": [],
   "source": [
    "# translate keywords\n",
    "from googletrans import Translator\n",
    "def translate_ru_to_en(potential_words):\n",
    "    translator = Translator()\n",
    "    result=[translator.translate(origin, src='ru', dest='en').text for origin in potential_words]\n",
    "    return result\n",
    "    \n",
    "    \n",
    "\n",
    "def translate_title_and_description(file_path, prefix, title_only, desc_only):\n",
    "    \n",
    "    if title_only == 'yes':\n",
    "        translate(file_path, prefix, \"title\")\n",
    "    elif desc_only == 'yes':\n",
    "        translate(file_path, prefix, \"description\")\n",
    "    else:\n",
    "        translate(file_path, prefix, \"title\")\n",
    "        translate(file_path, prefix, \"description\")"
   ]
  },
  {
   "cell_type": "code",
   "execution_count": null,
   "metadata": {},
   "outputs": [],
   "source": [
    "potential_words_ru=translate_ru_to_en(potential_words)"
   ]
  },
  {
   "cell_type": "code",
   "execution_count": null,
   "metadata": {},
   "outputs": [],
   "source": [
    "for i in range(100):\n",
    "    print(\"{}, {}\".format(potential_words_ru[i], potential_words[i]))\n",
    "    \n",
    "# car, автомобиль\n",
    "# big, большой\n",
    "# house, дом, доме\n",
    "# apartment, квартира\n",
    "# flat, квартиру\n",
    "\n",
    "# ideal, идеальном\n",
    "#the new, новая\n",
    "#new, новые\n",
    "#new, новый\n",
    "#excellent, отличное\n",
    "#excellent, отличном\n",
    "#highly, очень\n",
    "#good, хорошее\n",
    "#good, хорошем\n",
    "\n",
    "#for sale, продается\n",
    "#selling, продам\n",
    "#selling, продаю\n",
    "#for sale, продаётся\n",
    "#bargain, торг\n",
    "#bargain., торг.\n",
    "\n",
    "# available, возможен\n",
    "# guarantee, гарантия"
   ]
  },
  {
   "cell_type": "markdown",
   "metadata": {},
   "source": [
    "## Check if keywords exist"
   ]
  },
  {
   "cell_type": "code",
   "execution_count": 17,
   "metadata": {},
   "outputs": [],
   "source": [
    "def words_in_texts(words, texts):\n",
    "    '''\n",
    "    Args:\n",
    "        words (list-like): words to find\n",
    "        texts (Series): strings to search in\n",
    "    \n",
    "    Returns:\n",
    "        NumPy array of 0s and 1s with shape (n, p) where n is the\n",
    "        number of texts and p is the number of words.\n",
    "    '''\n",
    "    import re\n",
    "    def getIndicator(email):\n",
    "        \n",
    "        lst=np.zeros(len(words))\n",
    "        \n",
    "        for i, word in enumerate(words):\n",
    "            \n",
    "            tmp=[]\n",
    "            if len(re.findall(word, email))>0:\n",
    "                \n",
    "                lst[i]=1\n",
    "            else:\n",
    "                \n",
    "                lst[i]=0\n",
    "        return lst\n",
    "     \n",
    "    indicator=texts.apply(getIndicator)\n",
    "    indicator_array = np.array(indicator.tolist())\n",
    "    # YOUR CODE HERE\n",
    "    \n",
    "    return indicator_array"
   ]
  },
  {
   "cell_type": "code",
   "execution_count": 18,
   "metadata": {},
   "outputs": [],
   "source": [
    "target_keyword=[# ideal, \n",
    "    \"идеальном\",\n",
    "#the new, \n",
    "    \"новая\",\n",
    "#new, \n",
    "    \"новые\",\n",
    "#new, \n",
    "    \"новый\",\n",
    "#excellent, \n",
    "    \"отличное\",\n",
    "#excellent, \n",
    "    \"отличном\",\n",
    "#highly, \n",
    "    \"очень\",\n",
    "#good, \n",
    "    \"хорошее\",\n",
    "#good, \n",
    "    \"хорошем\"]\n",
    "potential_words_matrix=words_in_texts(target_keyword,train[\"description\"])"
   ]
  },
  {
   "cell_type": "code",
   "execution_count": 19,
   "metadata": {},
   "outputs": [],
   "source": [
    "df_potential_words=pd.DataFrame(potential_words_matrix, columns=target_keyword)"
   ]
  },
  {
   "cell_type": "code",
   "execution_count": null,
   "metadata": {},
   "outputs": [],
   "source": [
    "def add_keywords_desc(data):\n",
    "    \n",
    "    return data"
   ]
  },
  {
   "cell_type": "code",
   "execution_count": null,
   "metadata": {},
   "outputs": [],
   "source": [
    "keywords_matrix.shape"
   ]
  },
  {
   "cell_type": "code",
   "execution_count": null,
   "metadata": {},
   "outputs": [],
   "source": [
    "df_potential_words"
   ]
  },
  {
   "cell_type": "code",
   "execution_count": 20,
   "metadata": {},
   "outputs": [],
   "source": [
    "X_train=pd.concat([X_train, df_potential_words], axis=1)"
   ]
  },
  {
   "cell_type": "code",
   "execution_count": null,
   "metadata": {
    "scrolled": true
   },
   "outputs": [],
   "source": [
    "test_pd"
   ]
  },
  {
   "cell_type": "code",
   "execution_count": 21,
   "metadata": {},
   "outputs": [
    {
     "data": {
      "text/html": [
       "<div>\n",
       "<style scoped>\n",
       "    .dataframe tbody tr th:only-of-type {\n",
       "        vertical-align: middle;\n",
       "    }\n",
       "\n",
       "    .dataframe tbody tr th {\n",
       "        vertical-align: top;\n",
       "    }\n",
       "\n",
       "    .dataframe thead th {\n",
       "        text-align: right;\n",
       "    }\n",
       "</style>\n",
       "<table border=\"1\" class=\"dataframe\">\n",
       "  <thead>\n",
       "    <tr style=\"text-align: right;\">\n",
       "      <th></th>\n",
       "      <th>item_id</th>\n",
       "      <th>title</th>\n",
       "      <th>description</th>\n",
       "      <th>char_len_title</th>\n",
       "      <th>char_len_desc</th>\n",
       "      <th>tfidf_title_0</th>\n",
       "      <th>tfidf_title_1</th>\n",
       "      <th>tfidf_title_2</th>\n",
       "      <th>tfidf_title_3</th>\n",
       "      <th>tfidf_title_4</th>\n",
       "      <th>...</th>\n",
       "      <th>has_desc</th>\n",
       "      <th>идеальном</th>\n",
       "      <th>новая</th>\n",
       "      <th>новые</th>\n",
       "      <th>новый</th>\n",
       "      <th>отличное</th>\n",
       "      <th>отличном</th>\n",
       "      <th>очень</th>\n",
       "      <th>хорошее</th>\n",
       "      <th>хорошем</th>\n",
       "    </tr>\n",
       "  </thead>\n",
       "  <tbody>\n",
       "    <tr>\n",
       "      <th>0</th>\n",
       "      <td>b912c3c6a6ad</td>\n",
       "      <td>кокоби(кокон для сна)</td>\n",
       "      <td>кокон для сна малыша,пользовались меньше месяц...</td>\n",
       "      <td>21</td>\n",
       "      <td>58</td>\n",
       "      <td>0.00000</td>\n",
       "      <td>0.00000</td>\n",
       "      <td>0.00000</td>\n",
       "      <td>0.00000</td>\n",
       "      <td>0.00000</td>\n",
       "      <td>...</td>\n",
       "      <td>1</td>\n",
       "      <td>0.00000</td>\n",
       "      <td>0.00000</td>\n",
       "      <td>0.00000</td>\n",
       "      <td>0.00000</td>\n",
       "      <td>0.00000</td>\n",
       "      <td>0.00000</td>\n",
       "      <td>0.00000</td>\n",
       "      <td>0.00000</td>\n",
       "      <td>0.00000</td>\n",
       "    </tr>\n",
       "    <tr>\n",
       "      <th>1</th>\n",
       "      <td>2dac0150717d</td>\n",
       "      <td>стойка для одежды</td>\n",
       "      <td>стойка для одежды, под вешалки. с бутика.</td>\n",
       "      <td>17</td>\n",
       "      <td>41</td>\n",
       "      <td>0.00000</td>\n",
       "      <td>0.00000</td>\n",
       "      <td>0.00000</td>\n",
       "      <td>0.00000</td>\n",
       "      <td>0.00000</td>\n",
       "      <td>...</td>\n",
       "      <td>1</td>\n",
       "      <td>0.00000</td>\n",
       "      <td>0.00000</td>\n",
       "      <td>0.00000</td>\n",
       "      <td>0.00000</td>\n",
       "      <td>0.00000</td>\n",
       "      <td>0.00000</td>\n",
       "      <td>0.00000</td>\n",
       "      <td>0.00000</td>\n",
       "      <td>0.00000</td>\n",
       "    </tr>\n",
       "    <tr>\n",
       "      <th>2</th>\n",
       "      <td>ba83aefab5dc</td>\n",
       "      <td>philips bluray</td>\n",
       "      <td>в хорошем состоянии, домашний кинотеатр с blu ...</td>\n",
       "      <td>14</td>\n",
       "      <td>99</td>\n",
       "      <td>0.00000</td>\n",
       "      <td>0.00000</td>\n",
       "      <td>0.00000</td>\n",
       "      <td>0.00000</td>\n",
       "      <td>0.00000</td>\n",
       "      <td>...</td>\n",
       "      <td>1</td>\n",
       "      <td>0.00000</td>\n",
       "      <td>0.00000</td>\n",
       "      <td>0.00000</td>\n",
       "      <td>0.00000</td>\n",
       "      <td>0.00000</td>\n",
       "      <td>0.00000</td>\n",
       "      <td>0.00000</td>\n",
       "      <td>0.00000</td>\n",
       "      <td>1.00000</td>\n",
       "    </tr>\n",
       "    <tr>\n",
       "      <th>3</th>\n",
       "      <td>02996f1dd2ea</td>\n",
       "      <td>автокресло</td>\n",
       "      <td>продам кресло от0-25кг</td>\n",
       "      <td>10</td>\n",
       "      <td>22</td>\n",
       "      <td>0.00000</td>\n",
       "      <td>0.00000</td>\n",
       "      <td>0.00000</td>\n",
       "      <td>0.00000</td>\n",
       "      <td>0.00000</td>\n",
       "      <td>...</td>\n",
       "      <td>1</td>\n",
       "      <td>0.00000</td>\n",
       "      <td>0.00000</td>\n",
       "      <td>0.00000</td>\n",
       "      <td>0.00000</td>\n",
       "      <td>0.00000</td>\n",
       "      <td>0.00000</td>\n",
       "      <td>0.00000</td>\n",
       "      <td>0.00000</td>\n",
       "      <td>0.00000</td>\n",
       "    </tr>\n",
       "    <tr>\n",
       "      <th>4</th>\n",
       "      <td>7c90be56d2ab</td>\n",
       "      <td>ваз 2110, 2003</td>\n",
       "      <td>все вопросы по телефону.</td>\n",
       "      <td>14</td>\n",
       "      <td>24</td>\n",
       "      <td>0.00000</td>\n",
       "      <td>0.00000</td>\n",
       "      <td>0.00000</td>\n",
       "      <td>0.00000</td>\n",
       "      <td>0.00000</td>\n",
       "      <td>...</td>\n",
       "      <td>1</td>\n",
       "      <td>0.00000</td>\n",
       "      <td>0.00000</td>\n",
       "      <td>0.00000</td>\n",
       "      <td>0.00000</td>\n",
       "      <td>0.00000</td>\n",
       "      <td>0.00000</td>\n",
       "      <td>0.00000</td>\n",
       "      <td>0.00000</td>\n",
       "      <td>0.00000</td>\n",
       "    </tr>\n",
       "  </tbody>\n",
       "</table>\n",
       "<p>5 rows × 215 columns</p>\n",
       "</div>"
      ],
      "text/plain": [
       "        item_id                  title  \\\n",
       "0  b912c3c6a6ad  кокоби(кокон для сна)   \n",
       "1  2dac0150717d      стойка для одежды   \n",
       "2  ba83aefab5dc         philips bluray   \n",
       "3  02996f1dd2ea             автокресло   \n",
       "4  7c90be56d2ab         ваз 2110, 2003   \n",
       "\n",
       "                                         description  char_len_title  \\\n",
       "0  кокон для сна малыша,пользовались меньше месяц...              21   \n",
       "1          стойка для одежды, под вешалки. с бутика.              17   \n",
       "2  в хорошем состоянии, домашний кинотеатр с blu ...              14   \n",
       "3                             продам кресло от0-25кг              10   \n",
       "4                           все вопросы по телефону.              14   \n",
       "\n",
       "   char_len_desc  tfidf_title_0  tfidf_title_1  tfidf_title_2  tfidf_title_3  \\\n",
       "0             58        0.00000        0.00000        0.00000        0.00000   \n",
       "1             41        0.00000        0.00000        0.00000        0.00000   \n",
       "2             99        0.00000        0.00000        0.00000        0.00000   \n",
       "3             22        0.00000        0.00000        0.00000        0.00000   \n",
       "4             24        0.00000        0.00000        0.00000        0.00000   \n",
       "\n",
       "   tfidf_title_4   ...     has_desc  идеальном   новая   новые   новый  \\\n",
       "0        0.00000   ...            1    0.00000 0.00000 0.00000 0.00000   \n",
       "1        0.00000   ...            1    0.00000 0.00000 0.00000 0.00000   \n",
       "2        0.00000   ...            1    0.00000 0.00000 0.00000 0.00000   \n",
       "3        0.00000   ...            1    0.00000 0.00000 0.00000 0.00000   \n",
       "4        0.00000   ...            1    0.00000 0.00000 0.00000 0.00000   \n",
       "\n",
       "   отличное  отличном   очень  хорошее  хорошем  \n",
       "0   0.00000   0.00000 0.00000  0.00000  0.00000  \n",
       "1   0.00000   0.00000 0.00000  0.00000  0.00000  \n",
       "2   0.00000   0.00000 0.00000  0.00000  1.00000  \n",
       "3   0.00000   0.00000 0.00000  0.00000  0.00000  \n",
       "4   0.00000   0.00000 0.00000  0.00000  0.00000  \n",
       "\n",
       "[5 rows x 215 columns]"
      ]
     },
     "execution_count": 21,
     "metadata": {},
     "output_type": "execute_result"
    }
   ],
   "source": [
    "X_train.head()"
   ]
  },
  {
   "cell_type": "markdown",
   "metadata": {},
   "source": []
  }
 ],
 "metadata": {
  "kernelspec": {
   "display_name": "Python 3",
   "language": "python",
   "name": "python3"
  },
  "language_info": {
   "codemirror_mode": {
    "name": "ipython",
    "version": 3
   },
   "file_extension": ".py",
   "mimetype": "text/x-python",
   "name": "python",
   "nbconvert_exporter": "python",
   "pygments_lexer": "ipython3",
   "version": "3.6.5"
  }
 },
 "nbformat": 4,
 "nbformat_minor": 2
}
