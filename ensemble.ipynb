{
 "cells": [
  {
   "cell_type": "code",
   "execution_count": 45,
   "metadata": {},
   "outputs": [],
   "source": [
    "import pandas as pd\n",
    "import matplotlib.pyplot as plt\n",
    "import numpy as np\n",
    "from functools import reduce\n",
    "\n",
    "%matplotlib inline\n",
    "pd.options.mode.chained_assignment = None\n",
    "\n",
    "SEED = 45"
   ]
  },
  {
   "cell_type": "code",
   "execution_count": 46,
   "metadata": {
    "collapsed": true
   },
   "outputs": [],
   "source": [
    "test = pd.read_csv('data/test.csv', usecols=['item_id'])\n",
    "train = pd.read_csv('data/train.csv', usecols=['item_id', 'deal_probability'])"
   ]
  },
  {
   "cell_type": "code",
   "execution_count": 47,
   "metadata": {
    "collapsed": true
   },
   "outputs": [],
   "source": [
    "periods = pd.read_csv('predictions/periods.csv').rename(columns={'deal_probability': 'periods_predicted'})\n",
    "periods_train = pd.read_csv('predictions/periods_train.csv').rename(columns={'deal_probability': 'periods_predicted'})"
   ]
  },
  {
   "cell_type": "code",
   "execution_count": 48,
   "metadata": {
    "collapsed": true
   },
   "outputs": [],
   "source": [
    "activation_date = pd.read_csv('predictions/activation_date.csv').rename(columns={'deal_probability': 'activation_predicted'})\n",
    "activation_date_train = pd.read_csv('predictions/activation_date_train.csv').rename(columns={'deal_probability': 'activation_predicted'})"
   ]
  },
  {
   "cell_type": "code",
   "execution_count": 49,
   "metadata": {
    "collapsed": true
   },
   "outputs": [],
   "source": [
    "tabular = pd.read_csv('predictions/tabular.csv').rename(columns={'deal_probability': 'tabular_predicted'})\n",
    "tabular_train = pd.read_csv('predictions/tabular_train.csv').rename(columns={'deal_probability': 'tabular_predicted'})"
   ]
  },
  {
   "cell_type": "code",
   "execution_count": 50,
   "metadata": {
    "collapsed": true
   },
   "outputs": [],
   "source": [
    "nlp = pd.read_csv('predictions/nlp.csv').rename(columns={'deal_probability': 'nlp_predicted'})\n",
    "nlp_train = pd.read_csv('predictions/nlp_train.csv').rename(columns={'deal_probability': 'nlp_predicted'})"
   ]
  },
  {
   "cell_type": "markdown",
   "metadata": {},
   "source": [
    "## Training the ensembling model"
   ]
  },
  {
   "cell_type": "code",
   "execution_count": 51,
   "metadata": {},
   "outputs": [],
   "source": [
    "train = reduce(lambda left,right: pd.merge(left,right,on='item_id', how='left'), \n",
    "              [train, periods_train, activation_date_train, tabular_train, nlp_train]).set_index('item_id')"
   ]
  },
  {
   "cell_type": "code",
   "execution_count": 52,
   "metadata": {},
   "outputs": [
    {
     "data": {
      "text/html": [
       "<div>\n",
       "<style scoped>\n",
       "    .dataframe tbody tr th:only-of-type {\n",
       "        vertical-align: middle;\n",
       "    }\n",
       "\n",
       "    .dataframe tbody tr th {\n",
       "        vertical-align: top;\n",
       "    }\n",
       "\n",
       "    .dataframe thead th {\n",
       "        text-align: right;\n",
       "    }\n",
       "</style>\n",
       "<table border=\"1\" class=\"dataframe\">\n",
       "  <thead>\n",
       "    <tr style=\"text-align: right;\">\n",
       "      <th></th>\n",
       "      <th>deal_probability</th>\n",
       "      <th>periods_predicted</th>\n",
       "      <th>activation_predicted</th>\n",
       "      <th>tabular_predicted</th>\n",
       "      <th>nlp_predicted</th>\n",
       "    </tr>\n",
       "    <tr>\n",
       "      <th>item_id</th>\n",
       "      <th></th>\n",
       "      <th></th>\n",
       "      <th></th>\n",
       "      <th></th>\n",
       "      <th></th>\n",
       "    </tr>\n",
       "  </thead>\n",
       "  <tbody>\n",
       "    <tr>\n",
       "      <th>b912c3c6a6ad</th>\n",
       "      <td>0.12789</td>\n",
       "      <td>0.139208</td>\n",
       "      <td>0.139307</td>\n",
       "      <td>0.168598</td>\n",
       "      <td>0.109393</td>\n",
       "    </tr>\n",
       "    <tr>\n",
       "      <th>2dac0150717d</th>\n",
       "      <td>0.00000</td>\n",
       "      <td>0.139121</td>\n",
       "      <td>0.138812</td>\n",
       "      <td>0.295984</td>\n",
       "      <td>0.173961</td>\n",
       "    </tr>\n",
       "    <tr>\n",
       "      <th>ba83aefab5dc</th>\n",
       "      <td>0.43177</td>\n",
       "      <td>0.139138</td>\n",
       "      <td>0.138020</td>\n",
       "      <td>0.236903</td>\n",
       "      <td>0.256733</td>\n",
       "    </tr>\n",
       "    <tr>\n",
       "      <th>02996f1dd2ea</th>\n",
       "      <td>0.80323</td>\n",
       "      <td>0.139114</td>\n",
       "      <td>0.141566</td>\n",
       "      <td>0.234682</td>\n",
       "      <td>0.196804</td>\n",
       "    </tr>\n",
       "    <tr>\n",
       "      <th>7c90be56d2ab</th>\n",
       "      <td>0.20797</td>\n",
       "      <td>0.139121</td>\n",
       "      <td>0.141675</td>\n",
       "      <td>0.362416</td>\n",
       "      <td>0.344846</td>\n",
       "    </tr>\n",
       "  </tbody>\n",
       "</table>\n",
       "</div>"
      ],
      "text/plain": [
       "              deal_probability  periods_predicted  activation_predicted  \\\n",
       "item_id                                                                   \n",
       "b912c3c6a6ad           0.12789           0.139208              0.139307   \n",
       "2dac0150717d           0.00000           0.139121              0.138812   \n",
       "ba83aefab5dc           0.43177           0.139138              0.138020   \n",
       "02996f1dd2ea           0.80323           0.139114              0.141566   \n",
       "7c90be56d2ab           0.20797           0.139121              0.141675   \n",
       "\n",
       "              tabular_predicted  nlp_predicted  \n",
       "item_id                                         \n",
       "b912c3c6a6ad           0.168598       0.109393  \n",
       "2dac0150717d           0.295984       0.173961  \n",
       "ba83aefab5dc           0.236903       0.256733  \n",
       "02996f1dd2ea           0.234682       0.196804  \n",
       "7c90be56d2ab           0.362416       0.344846  "
      ]
     },
     "execution_count": 52,
     "metadata": {},
     "output_type": "execute_result"
    }
   ],
   "source": [
    "train.head()"
   ]
  },
  {
   "cell_type": "code",
   "execution_count": 53,
   "metadata": {},
   "outputs": [],
   "source": [
    "test = reduce(lambda left,right: pd.merge(left,right,on='item_id', how='left'), \n",
    "              [test, periods, activation_date, tabular, nlp]).set_index('item_id')"
   ]
  },
  {
   "cell_type": "code",
   "execution_count": 54,
   "metadata": {},
   "outputs": [
    {
     "data": {
      "text/html": [
       "<div>\n",
       "<style scoped>\n",
       "    .dataframe tbody tr th:only-of-type {\n",
       "        vertical-align: middle;\n",
       "    }\n",
       "\n",
       "    .dataframe tbody tr th {\n",
       "        vertical-align: top;\n",
       "    }\n",
       "\n",
       "    .dataframe thead th {\n",
       "        text-align: right;\n",
       "    }\n",
       "</style>\n",
       "<table border=\"1\" class=\"dataframe\">\n",
       "  <thead>\n",
       "    <tr style=\"text-align: right;\">\n",
       "      <th></th>\n",
       "      <th>periods_predicted</th>\n",
       "      <th>activation_predicted</th>\n",
       "      <th>tabular_predicted</th>\n",
       "      <th>nlp_predicted</th>\n",
       "    </tr>\n",
       "    <tr>\n",
       "      <th>item_id</th>\n",
       "      <th></th>\n",
       "      <th></th>\n",
       "      <th></th>\n",
       "      <th></th>\n",
       "    </tr>\n",
       "  </thead>\n",
       "  <tbody>\n",
       "    <tr>\n",
       "      <th>6544e41a8817</th>\n",
       "      <td>0.139211</td>\n",
       "      <td>0.572439</td>\n",
       "      <td>0.053102</td>\n",
       "      <td>0.055330</td>\n",
       "    </tr>\n",
       "    <tr>\n",
       "      <th>65b9484d670f</th>\n",
       "      <td>0.139004</td>\n",
       "      <td>0.476374</td>\n",
       "      <td>0.360651</td>\n",
       "      <td>0.113738</td>\n",
       "    </tr>\n",
       "    <tr>\n",
       "      <th>8bab230b2ecd</th>\n",
       "      <td>0.139397</td>\n",
       "      <td>0.346118</td>\n",
       "      <td>0.188644</td>\n",
       "      <td>0.170690</td>\n",
       "    </tr>\n",
       "    <tr>\n",
       "      <th>8e348601fefc</th>\n",
       "      <td>0.139146</td>\n",
       "      <td>0.346118</td>\n",
       "      <td>0.362879</td>\n",
       "      <td>0.314884</td>\n",
       "    </tr>\n",
       "    <tr>\n",
       "      <th>8bd2fe400b89</th>\n",
       "      <td>0.140688</td>\n",
       "      <td>0.540526</td>\n",
       "      <td>0.218020</td>\n",
       "      <td>0.225980</td>\n",
       "    </tr>\n",
       "  </tbody>\n",
       "</table>\n",
       "</div>"
      ],
      "text/plain": [
       "              periods_predicted  activation_predicted  tabular_predicted  \\\n",
       "item_id                                                                    \n",
       "6544e41a8817           0.139211              0.572439           0.053102   \n",
       "65b9484d670f           0.139004              0.476374           0.360651   \n",
       "8bab230b2ecd           0.139397              0.346118           0.188644   \n",
       "8e348601fefc           0.139146              0.346118           0.362879   \n",
       "8bd2fe400b89           0.140688              0.540526           0.218020   \n",
       "\n",
       "              nlp_predicted  \n",
       "item_id                      \n",
       "6544e41a8817       0.055330  \n",
       "65b9484d670f       0.113738  \n",
       "8bab230b2ecd       0.170690  \n",
       "8e348601fefc       0.314884  \n",
       "8bd2fe400b89       0.225980  "
      ]
     },
     "execution_count": 54,
     "metadata": {},
     "output_type": "execute_result"
    }
   ],
   "source": [
    "test.head()"
   ]
  },
  {
   "cell_type": "code",
   "execution_count": 55,
   "metadata": {
    "collapsed": true
   },
   "outputs": [],
   "source": [
    "from sklearn.model_selection import train_test_split\n",
    "X_train, X_test, y_train, y_test = train_test_split(train.drop('deal_probability', axis=1), \n",
    "                                                    train['deal_probability'], \n",
    "                                                    random_state=SEED)"
   ]
  },
  {
   "cell_type": "code",
   "execution_count": 35,
   "metadata": {},
   "outputs": [],
   "source": [
    "from sklearn.ensemble import RandomForestRegressor\n",
    "from sklearn.linear_model import LinearRegression\n",
    "from sklearn.model_selection import RandomizedSearchCV\n",
    "from utils import config_dict\n",
    "model = RandomForestRegressor(n_estimators=20, random_state=SEED)\n",
    "# model = LinearRegression(n_jobs=-1)"
   ]
  },
  {
   "cell_type": "code",
   "execution_count": 36,
   "metadata": {
    "collapsed": true
   },
   "outputs": [
    {
     "data": {
      "text/plain": [
       "RandomForestRegressor(bootstrap=True, criterion='mse', max_depth=None,\n",
       "           max_features='auto', max_leaf_nodes=None,\n",
       "           min_impurity_decrease=0.0, min_impurity_split=None,\n",
       "           min_samples_leaf=1, min_samples_split=2,\n",
       "           min_weight_fraction_leaf=0.0, n_estimators=20, n_jobs=1,\n",
       "           oob_score=False, random_state=45, verbose=0, warm_start=False)"
      ]
     },
     "execution_count": 36,
     "metadata": {},
     "output_type": "execute_result"
    }
   ],
   "source": [
    "model.fit(X_train, y_train)"
   ]
  },
  {
   "cell_type": "code",
   "execution_count": 56,
   "metadata": {
    "collapsed": true
   },
   "outputs": [
    {
     "data": {
      "text/plain": [
       "0.2518178182823019"
      ]
     },
     "execution_count": 56,
     "metadata": {},
     "output_type": "execute_result"
    }
   ],
   "source": [
    "model.score(X_test, y_test)"
   ]
  },
  {
   "cell_type": "code",
   "execution_count": 57,
   "metadata": {},
   "outputs": [
    {
     "data": {
      "text/plain": [
       "0.22488091274351957"
      ]
     },
     "execution_count": 57,
     "metadata": {},
     "output_type": "execute_result"
    }
   ],
   "source": [
    "rmse = np.sqrt(np.mean((model.predict(X_test) - y_test) ** 2))\n",
    "rmse"
   ]
  },
  {
   "cell_type": "code",
   "execution_count": 58,
   "metadata": {
    "collapsed": true
   },
   "outputs": [],
   "source": [
    "test['deal_probability'] = model.predict(test.values)"
   ]
  },
  {
   "cell_type": "code",
   "execution_count": 59,
   "metadata": {},
   "outputs": [],
   "source": [
    "test['deal_probability'][test['deal_probability'] < 0.0] = 0.0\n",
    "test['deal_probability'][test['deal_probability'] > 1.0] = 1.0"
   ]
  },
  {
   "cell_type": "code",
   "execution_count": 60,
   "metadata": {
    "collapsed": true
   },
   "outputs": [],
   "source": [
    "test[['deal_probability']].to_csv('predictions/submission.csv')"
   ]
  },
  {
   "cell_type": "code",
   "execution_count": 42,
   "metadata": {},
   "outputs": [],
   "source": [
    "import pickle\n",
    "model_name = 'rf_overfit_ensembled'\n",
    "# pickle.dump(model, open('saved_models/{}.pickle'.format(model_name), 'wb'))\n",
    "# model = pickle.load(open('saved_models/{}.pickle'.format(model_name), 'rb'))"
   ]
  },
  {
   "cell_type": "code",
   "execution_count": null,
   "metadata": {},
   "outputs": [],
   "source": []
  }
 ],
 "metadata": {
  "kernelspec": {
   "display_name": "Python 3",
   "language": "python",
   "name": "python3"
  },
  "language_info": {
   "codemirror_mode": {
    "name": "ipython",
    "version": 3
   },
   "file_extension": ".py",
   "mimetype": "text/x-python",
   "name": "python",
   "nbconvert_exporter": "python",
   "pygments_lexer": "ipython3",
   "version": "3.6.4"
  }
 },
 "nbformat": 4,
 "nbformat_minor": 2
}
