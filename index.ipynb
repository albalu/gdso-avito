{
 "cells": [
  {
   "cell_type": "markdown",
   "metadata": {},
   "source": [
    "||\n",
    "- | -\n",
    "![](figures/gdso_logo.png) | ![](figures/avito_logo.png)![](figures/kaggle_logo.png)"
   ]
  },
  {
   "cell_type": "markdown",
   "metadata": {},
   "source": [
    "# Problem Overview"
   ]
  },
  {
   "cell_type": "markdown",
   "metadata": {},
   "source": [
    "It is important for [Avito](https://www.avito.ru/rossiya?verifyUserLocation=1) (Russian Craigslist) and its users to know the probability of success (our target; e.g. selling the item/service) upon creating their listings. We are helping both Avito and its customers with our model. This challenge was an exciting opportunity for us to gain experience while doing data wrangling, feature extraction, model training and ensembling of those models using different kinds of data that you see in the notebooks below. Also a presentation of our results is available [here](https://docs.google.com/presentation/d/16jHh03UMRoGotGNfu7kN1aWJ81upqqyfPk3zm2H7rbs/edit?usp=sharing).\n",
    "\n",
    "This porject is a [Kaggle challenge](https://www.kaggle.com/c/avito-demand-prediction) done by our group at Graduate Data Science Organization ([GDSO](https://gdso.berkeley.edu/)) data science workshop help at summer of 2018 in UC Berkeley. The project was mentored by [Joel Barajas](https://www.linkedin.com/in/joel-barajas-bb06b78/)"
   ]
  },
  {
   "cell_type": "markdown",
   "metadata": {},
   "source": [
    "# Data Structure"
   ]
  },
  {
   "cell_type": "markdown",
   "metadata": {},
   "source": [
    "* **train**: labeled tabular data for a set of 1.5M items and 0.7M users (M stands for millions)\n",
    "* **test**: unlabeled tabular data for a set of 0.5M items and 0.3M users\n",
    "* **train_active/test_active**: unlabeled tabular and text data for 14/13M items and 3/3M users\n",
    "* **train_periods/test_periods**: unlabeled time series data for a set of 16/14M items"
   ]
  },
  {
   "cell_type": "markdown",
   "metadata": {},
   "source": [
    "# Notebooks"
   ]
  },
  {
   "cell_type": "markdown",
   "metadata": {},
   "source": [
    "* [Time series aggregate feature extraction](periods_aggregate_features.ipynb)\n",
    "* [Time series model training](train_periods_model.ipynb)\n",
    "* [Time series: item activation date model training](periods_item_activation_date.ipynb)\n",
    "\n",
    "\n",
    "* [Tabular data exploration and feature extraction](all_samples_features.ipynb)\n",
    "* [Tabular data model training](train_tabular.ipynb)\n",
    "\n",
    "\n",
    "* [Text data feature extraction](title_description_analysis.ipynb)\n",
    "* [Text data model training](nlp.ipynb)\n",
    "\n",
    "\n",
    "* [Ensembling of models and final submission](ensemble.ipynb)"
   ]
  }
 ],
 "metadata": {
  "kernelspec": {
   "display_name": "Python 3",
   "language": "python",
   "name": "python3"
  },
  "language_info": {
   "codemirror_mode": {
    "name": "ipython",
    "version": 3
   },
   "file_extension": ".py",
   "mimetype": "text/x-python",
   "name": "python",
   "nbconvert_exporter": "python",
   "pygments_lexer": "ipython3",
   "version": "3.6.4"
  }
 },
 "nbformat": 4,
 "nbformat_minor": 2
}
