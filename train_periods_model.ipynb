{
 "cells": [
  {
   "cell_type": "code",
   "execution_count": 66,
   "metadata": {},
   "outputs": [],
   "source": [
    "import pandas as pd\n",
    "import numpy as np\n",
    "import gc\n",
    "import matplotlib.pyplot as plt\n",
    "import seaborn as sns\n",
    "from utils import featurize_date_col, TpotAutoml\n",
    "from sklearn.model_selection import TimeSeriesSplit, train_test_split\n",
    "from sklearn.ensemble import RandomForestRegressor\n",
    "from sklearn.multioutput import MultiOutputRegressor\n",
    "\n",
    "sns.set()\n",
    "%matplotlib inline\n",
    "pd.options.mode.chained_assignment = None"
   ]
  },
  {
   "cell_type": "code",
   "execution_count": 2,
   "metadata": {},
   "outputs": [],
   "source": [
    "# user inputs:\n",
    "SEED = 13\n",
    "np.random.seed(SEED)\n",
    "KEEP_ROWS_FRAC = 1.0 # set to 1 if all rows are meant to be kept\n",
    "skiprows_func = lambda i: i>0 and np.random.rand() > KEEP_ROWS_FRAC"
   ]
  },
  {
   "cell_type": "code",
   "execution_count": 3,
   "metadata": {},
   "outputs": [],
   "source": [
    "periods_aggregate = pd.read_csv('data/periods_aggregate_features.csv', skiprows=skiprows_func)"
   ]
  },
  {
   "cell_type": "code",
   "execution_count": 4,
   "metadata": {},
   "outputs": [],
   "source": [
    "train = pd.read_csv('data/train.csv', usecols=['user_id', 'item_id', 'deal_probability', 'activation_date'],\n",
    "                   parse_dates=['activation_date'], infer_datetime_format=True)\n",
    "test = pd.read_csv('data/test.csv', usecols=['user_id', 'item_id', 'activation_date'],\n",
    "                   parse_dates=['activation_date'], infer_datetime_format=True)"
   ]
  },
  {
   "cell_type": "code",
   "execution_count": 5,
   "metadata": {},
   "outputs": [
    {
     "data": {
      "text/html": [
       "<div>\n",
       "<style scoped>\n",
       "    .dataframe tbody tr th:only-of-type {\n",
       "        vertical-align: middle;\n",
       "    }\n",
       "\n",
       "    .dataframe tbody tr th {\n",
       "        vertical-align: top;\n",
       "    }\n",
       "\n",
       "    .dataframe thead th {\n",
       "        text-align: right;\n",
       "    }\n",
       "</style>\n",
       "<table border=\"1\" class=\"dataframe\">\n",
       "  <thead>\n",
       "    <tr style=\"text-align: right;\">\n",
       "      <th></th>\n",
       "      <th>item_id</th>\n",
       "      <th>user_id</th>\n",
       "      <th>region</th>\n",
       "      <th>city</th>\n",
       "      <th>parent_category_name</th>\n",
       "      <th>category_name</th>\n",
       "      <th>activation_date</th>\n",
       "      <th>user_type</th>\n",
       "      <th>price_norm</th>\n",
       "    </tr>\n",
       "  </thead>\n",
       "  <tbody>\n",
       "    <tr>\n",
       "      <th>0</th>\n",
       "      <td>b912c3c6a6ad</td>\n",
       "      <td>e00f8ff2eaf9</td>\n",
       "      <td>Свердловская область</td>\n",
       "      <td>Екатеринбург</td>\n",
       "      <td>Личные вещи</td>\n",
       "      <td>Товары для детей и игрушки</td>\n",
       "      <td>2017-03-28</td>\n",
       "      <td>Private</td>\n",
       "      <td>-0.368621</td>\n",
       "    </tr>\n",
       "    <tr>\n",
       "      <th>1</th>\n",
       "      <td>2dac0150717d</td>\n",
       "      <td>39aeb48f0017</td>\n",
       "      <td>Самарская область</td>\n",
       "      <td>Самара</td>\n",
       "      <td>Для дома и дачи</td>\n",
       "      <td>Мебель и интерьер</td>\n",
       "      <td>2017-03-26</td>\n",
       "      <td>Private</td>\n",
       "      <td>0.170278</td>\n",
       "    </tr>\n",
       "    <tr>\n",
       "      <th>2</th>\n",
       "      <td>ba83aefab5dc</td>\n",
       "      <td>91e2f88dd6e3</td>\n",
       "      <td>Ростовская область</td>\n",
       "      <td>Ростов-на-Дону</td>\n",
       "      <td>Бытовая электроника</td>\n",
       "      <td>Аудио и видео</td>\n",
       "      <td>2017-03-20</td>\n",
       "      <td>Private</td>\n",
       "      <td>0.350379</td>\n",
       "    </tr>\n",
       "    <tr>\n",
       "      <th>3</th>\n",
       "      <td>02996f1dd2ea</td>\n",
       "      <td>bf5cccea572d</td>\n",
       "      <td>Татарстан</td>\n",
       "      <td>Набережные Челны</td>\n",
       "      <td>Личные вещи</td>\n",
       "      <td>Товары для детей и игрушки</td>\n",
       "      <td>2017-03-25</td>\n",
       "      <td>Company</td>\n",
       "      <td>0.288374</td>\n",
       "    </tr>\n",
       "    <tr>\n",
       "      <th>4</th>\n",
       "      <td>7c90be56d2ab</td>\n",
       "      <td>ef50846afc0b</td>\n",
       "      <td>Волгоградская область</td>\n",
       "      <td>Волгоград</td>\n",
       "      <td>Транспорт</td>\n",
       "      <td>Автомобили</td>\n",
       "      <td>2017-03-16</td>\n",
       "      <td>Private</td>\n",
       "      <td>-0.803530</td>\n",
       "    </tr>\n",
       "  </tbody>\n",
       "</table>\n",
       "</div>"
      ],
      "text/plain": [
       "        item_id       user_id                 region              city  \\\n",
       "0  b912c3c6a6ad  e00f8ff2eaf9   Свердловская область      Екатеринбург   \n",
       "1  2dac0150717d  39aeb48f0017      Самарская область            Самара   \n",
       "2  ba83aefab5dc  91e2f88dd6e3     Ростовская область    Ростов-на-Дону   \n",
       "3  02996f1dd2ea  bf5cccea572d              Татарстан  Набережные Челны   \n",
       "4  7c90be56d2ab  ef50846afc0b  Волгоградская область         Волгоград   \n",
       "\n",
       "  parent_category_name               category_name activation_date user_type  \\\n",
       "0          Личные вещи  Товары для детей и игрушки      2017-03-28   Private   \n",
       "1      Для дома и дачи           Мебель и интерьер      2017-03-26   Private   \n",
       "2  Бытовая электроника               Аудио и видео      2017-03-20   Private   \n",
       "3          Личные вещи  Товары для детей и игрушки      2017-03-25   Company   \n",
       "4            Транспорт                  Автомобили      2017-03-16   Private   \n",
       "\n",
       "   price_norm  \n",
       "0   -0.368621  \n",
       "1    0.170278  \n",
       "2    0.350379  \n",
       "3    0.288374  \n",
       "4   -0.803530  "
      ]
     },
     "execution_count": 5,
     "metadata": {},
     "output_type": "execute_result"
    }
   ],
   "source": [
    "usecols=['item_id', 'user_id', 'activation_date', 'city', 'region',\n",
    "                              'parent_category_name', 'category_name', \n",
    "                             'user_type', 'price_norm']\n",
    "all_samples = pd.read_csv('data/all_samples_no_nulls.csv', usecols=usecols, skiprows=skiprows_func)\n",
    "all_samples.head()"
   ]
  },
  {
   "cell_type": "code",
   "execution_count": 6,
   "metadata": {},
   "outputs": [
    {
     "data": {
      "text/html": [
       "<div>\n",
       "<style scoped>\n",
       "    .dataframe tbody tr th:only-of-type {\n",
       "        vertical-align: middle;\n",
       "    }\n",
       "\n",
       "    .dataframe tbody tr th {\n",
       "        vertical-align: top;\n",
       "    }\n",
       "\n",
       "    .dataframe thead th {\n",
       "        text-align: right;\n",
       "    }\n",
       "</style>\n",
       "<table border=\"1\" class=\"dataframe\">\n",
       "  <thead>\n",
       "    <tr style=\"text-align: right;\">\n",
       "      <th></th>\n",
       "      <th>days_to_publish</th>\n",
       "      <th>days_online</th>\n",
       "      <th>activation_date_isholiday</th>\n",
       "      <th>activation_date_wday</th>\n",
       "      <th>date_from_isholiday</th>\n",
       "      <th>date_from_wday</th>\n",
       "      <th>date_to_isholiday</th>\n",
       "      <th>date_to_wday</th>\n",
       "      <th>nlisted</th>\n",
       "      <th>sum_days_online</th>\n",
       "      <th>...</th>\n",
       "      <th>last_days_online</th>\n",
       "      <th>sum_days_to_publish</th>\n",
       "      <th>mean_days_to_publish</th>\n",
       "      <th>median_date_to_isholiday</th>\n",
       "      <th>median_date_to_wday</th>\n",
       "      <th>start_date_isholiday</th>\n",
       "      <th>start_date_wday</th>\n",
       "      <th>end_date_isholiday</th>\n",
       "      <th>end_date_wday</th>\n",
       "      <th>nitems</th>\n",
       "    </tr>\n",
       "    <tr>\n",
       "      <th>user_id</th>\n",
       "      <th></th>\n",
       "      <th></th>\n",
       "      <th></th>\n",
       "      <th></th>\n",
       "      <th></th>\n",
       "      <th></th>\n",
       "      <th></th>\n",
       "      <th></th>\n",
       "      <th></th>\n",
       "      <th></th>\n",
       "      <th></th>\n",
       "      <th></th>\n",
       "      <th></th>\n",
       "      <th></th>\n",
       "      <th></th>\n",
       "      <th></th>\n",
       "      <th></th>\n",
       "      <th></th>\n",
       "      <th></th>\n",
       "      <th></th>\n",
       "      <th></th>\n",
       "    </tr>\n",
       "  </thead>\n",
       "  <tbody>\n",
       "    <tr>\n",
       "      <th>00000077ff21</th>\n",
       "      <td>0.000</td>\n",
       "      <td>8.50</td>\n",
       "      <td>0.0</td>\n",
       "      <td>3.000</td>\n",
       "      <td>0.0</td>\n",
       "      <td>3.0</td>\n",
       "      <td>0.0</td>\n",
       "      <td>1.000</td>\n",
       "      <td>2.00</td>\n",
       "      <td>12.5</td>\n",
       "      <td>...</td>\n",
       "      <td>4.0</td>\n",
       "      <td>23.500</td>\n",
       "      <td>11.750</td>\n",
       "      <td>0.0</td>\n",
       "      <td>1.750</td>\n",
       "      <td>0.0</td>\n",
       "      <td>3.0</td>\n",
       "      <td>0.0</td>\n",
       "      <td>2.500</td>\n",
       "      <td>2</td>\n",
       "    </tr>\n",
       "    <tr>\n",
       "      <th>000006497719</th>\n",
       "      <td>8.000</td>\n",
       "      <td>13.00</td>\n",
       "      <td>0.0</td>\n",
       "      <td>1.000</td>\n",
       "      <td>0.0</td>\n",
       "      <td>2.0</td>\n",
       "      <td>0.0</td>\n",
       "      <td>1.000</td>\n",
       "      <td>2.00</td>\n",
       "      <td>19.0</td>\n",
       "      <td>...</td>\n",
       "      <td>6.0</td>\n",
       "      <td>13.000</td>\n",
       "      <td>6.500</td>\n",
       "      <td>0.0</td>\n",
       "      <td>1.000</td>\n",
       "      <td>0.0</td>\n",
       "      <td>2.0</td>\n",
       "      <td>0.0</td>\n",
       "      <td>1.000</td>\n",
       "      <td>1</td>\n",
       "    </tr>\n",
       "    <tr>\n",
       "      <th>00000b4d72f6</th>\n",
       "      <td>0.000</td>\n",
       "      <td>3.00</td>\n",
       "      <td>0.0</td>\n",
       "      <td>5.000</td>\n",
       "      <td>0.0</td>\n",
       "      <td>5.0</td>\n",
       "      <td>0.0</td>\n",
       "      <td>1.000</td>\n",
       "      <td>1.00</td>\n",
       "      <td>3.0</td>\n",
       "      <td>...</td>\n",
       "      <td>3.0</td>\n",
       "      <td>0.000</td>\n",
       "      <td>0.000</td>\n",
       "      <td>0.0</td>\n",
       "      <td>1.000</td>\n",
       "      <td>0.0</td>\n",
       "      <td>5.0</td>\n",
       "      <td>0.0</td>\n",
       "      <td>1.000</td>\n",
       "      <td>1</td>\n",
       "    </tr>\n",
       "    <tr>\n",
       "      <th>00000d642d7e</th>\n",
       "      <td>14.000</td>\n",
       "      <td>13.00</td>\n",
       "      <td>0.0</td>\n",
       "      <td>2.000</td>\n",
       "      <td>0.0</td>\n",
       "      <td>2.0</td>\n",
       "      <td>0.0</td>\n",
       "      <td>1.000</td>\n",
       "      <td>1.00</td>\n",
       "      <td>13.0</td>\n",
       "      <td>...</td>\n",
       "      <td>13.0</td>\n",
       "      <td>14.000</td>\n",
       "      <td>14.000</td>\n",
       "      <td>0.0</td>\n",
       "      <td>1.000</td>\n",
       "      <td>0.0</td>\n",
       "      <td>2.0</td>\n",
       "      <td>0.0</td>\n",
       "      <td>1.000</td>\n",
       "      <td>2</td>\n",
       "    </tr>\n",
       "    <tr>\n",
       "      <th>0000126b80a4</th>\n",
       "      <td>2.625</td>\n",
       "      <td>8.25</td>\n",
       "      <td>0.0</td>\n",
       "      <td>3.875</td>\n",
       "      <td>0.0</td>\n",
       "      <td>3.0</td>\n",
       "      <td>0.0</td>\n",
       "      <td>1.625</td>\n",
       "      <td>1.75</td>\n",
       "      <td>12.0</td>\n",
       "      <td>...</td>\n",
       "      <td>7.0</td>\n",
       "      <td>11.625</td>\n",
       "      <td>5.125</td>\n",
       "      <td>0.0</td>\n",
       "      <td>1.875</td>\n",
       "      <td>0.0</td>\n",
       "      <td>2.0</td>\n",
       "      <td>0.0</td>\n",
       "      <td>1.625</td>\n",
       "      <td>8</td>\n",
       "    </tr>\n",
       "  </tbody>\n",
       "</table>\n",
       "<p>5 rows × 21 columns</p>\n",
       "</div>"
      ],
      "text/plain": [
       "              days_to_publish  days_online  activation_date_isholiday  \\\n",
       "user_id                                                                 \n",
       "00000077ff21            0.000         8.50                        0.0   \n",
       "000006497719            8.000        13.00                        0.0   \n",
       "00000b4d72f6            0.000         3.00                        0.0   \n",
       "00000d642d7e           14.000        13.00                        0.0   \n",
       "0000126b80a4            2.625         8.25                        0.0   \n",
       "\n",
       "              activation_date_wday  date_from_isholiday  date_from_wday  \\\n",
       "user_id                                                                   \n",
       "00000077ff21                 3.000                  0.0             3.0   \n",
       "000006497719                 1.000                  0.0             2.0   \n",
       "00000b4d72f6                 5.000                  0.0             5.0   \n",
       "00000d642d7e                 2.000                  0.0             2.0   \n",
       "0000126b80a4                 3.875                  0.0             3.0   \n",
       "\n",
       "              date_to_isholiday  date_to_wday  nlisted  sum_days_online  \\\n",
       "user_id                                                                   \n",
       "00000077ff21                0.0         1.000     2.00             12.5   \n",
       "000006497719                0.0         1.000     2.00             19.0   \n",
       "00000b4d72f6                0.0         1.000     1.00              3.0   \n",
       "00000d642d7e                0.0         1.000     1.00             13.0   \n",
       "0000126b80a4                0.0         1.625     1.75             12.0   \n",
       "\n",
       "               ...    last_days_online  sum_days_to_publish  \\\n",
       "user_id        ...                                            \n",
       "00000077ff21   ...                 4.0               23.500   \n",
       "000006497719   ...                 6.0               13.000   \n",
       "00000b4d72f6   ...                 3.0                0.000   \n",
       "00000d642d7e   ...                13.0               14.000   \n",
       "0000126b80a4   ...                 7.0               11.625   \n",
       "\n",
       "              mean_days_to_publish  median_date_to_isholiday  \\\n",
       "user_id                                                        \n",
       "00000077ff21                11.750                       0.0   \n",
       "000006497719                 6.500                       0.0   \n",
       "00000b4d72f6                 0.000                       0.0   \n",
       "00000d642d7e                14.000                       0.0   \n",
       "0000126b80a4                 5.125                       0.0   \n",
       "\n",
       "              median_date_to_wday  start_date_isholiday  start_date_wday  \\\n",
       "user_id                                                                    \n",
       "00000077ff21                1.750                   0.0              3.0   \n",
       "000006497719                1.000                   0.0              2.0   \n",
       "00000b4d72f6                1.000                   0.0              5.0   \n",
       "00000d642d7e                1.000                   0.0              2.0   \n",
       "0000126b80a4                1.875                   0.0              2.0   \n",
       "\n",
       "              end_date_isholiday  end_date_wday  nitems  \n",
       "user_id                                                  \n",
       "00000077ff21                 0.0          2.500       2  \n",
       "000006497719                 0.0          1.000       1  \n",
       "00000b4d72f6                 0.0          1.000       1  \n",
       "00000d642d7e                 0.0          1.000       2  \n",
       "0000126b80a4                 0.0          1.625       8  \n",
       "\n",
       "[5 rows x 21 columns]"
      ]
     },
     "execution_count": 6,
     "metadata": {},
     "output_type": "execute_result"
    }
   ],
   "source": [
    "drop_feats = []\n",
    "for feat in periods_aggregate:\n",
    "    if 'yday' in feat:\n",
    "        drop_feats.append(feat)\n",
    "periods_aggregate = periods_aggregate.drop(drop_feats, axis=1).set_index('user_id')\n",
    "periods_aggregate.head()"
   ]
  },
  {
   "cell_type": "code",
   "execution_count": 7,
   "metadata": {},
   "outputs": [
    {
     "name": "stderr",
     "output_type": "stream",
     "text": [
      "/Users/alirezafaghaninia/anaconda3/lib/python3.6/importlib/_bootstrap.py:219: RuntimeWarning: numpy.dtype size changed, may indicate binary incompatibility. Expected 96, got 88\n",
      "  return f(*args, **kwds)\n"
     ]
    },
    {
     "data": {
      "text/plain": [
       "PCA(copy=True, iterated_power='auto', n_components=4, random_state=None,\n",
       "  svd_solver='auto', tol=0.0, whiten=False)"
      ]
     },
     "execution_count": 7,
     "metadata": {},
     "output_type": "execute_result"
    }
   ],
   "source": [
    "from sklearn.decomposition import PCA\n",
    "N_COMPONENTS = 4\n",
    "pca = PCA(n_components=N_COMPONENTS)\n",
    "pca.fit(periods_aggregate)"
   ]
  },
  {
   "cell_type": "code",
   "execution_count": 45,
   "metadata": {},
   "outputs": [],
   "source": [
    "periods_pcaed = pd.DataFrame()\n",
    "periods_pcaed['user_id'] = periods_aggregate.index"
   ]
  },
  {
   "cell_type": "code",
   "execution_count": 46,
   "metadata": {},
   "outputs": [
    {
     "data": {
      "text/html": [
       "<div>\n",
       "<style scoped>\n",
       "    .dataframe tbody tr th:only-of-type {\n",
       "        vertical-align: middle;\n",
       "    }\n",
       "\n",
       "    .dataframe tbody tr th {\n",
       "        vertical-align: top;\n",
       "    }\n",
       "\n",
       "    .dataframe thead th {\n",
       "        text-align: right;\n",
       "    }\n",
       "</style>\n",
       "<table border=\"1\" class=\"dataframe\">\n",
       "  <thead>\n",
       "    <tr style=\"text-align: right;\">\n",
       "      <th></th>\n",
       "      <th>user_id</th>\n",
       "      <th>PCA-1</th>\n",
       "      <th>PCA-2</th>\n",
       "      <th>PCA-3</th>\n",
       "      <th>PCA-4</th>\n",
       "    </tr>\n",
       "  </thead>\n",
       "  <tbody>\n",
       "    <tr>\n",
       "      <th>0</th>\n",
       "      <td>00000077ff21</td>\n",
       "      <td>-1.853166</td>\n",
       "      <td>-3.467160</td>\n",
       "      <td>-9.751790</td>\n",
       "      <td>5.434450</td>\n",
       "    </tr>\n",
       "    <tr>\n",
       "      <th>1</th>\n",
       "      <td>000006497719</td>\n",
       "      <td>-3.319304</td>\n",
       "      <td>3.297781</td>\n",
       "      <td>-6.165325</td>\n",
       "      <td>-6.646955</td>\n",
       "    </tr>\n",
       "    <tr>\n",
       "      <th>2</th>\n",
       "      <td>00000b4d72f6</td>\n",
       "      <td>-4.906568</td>\n",
       "      <td>21.260171</td>\n",
       "      <td>2.429095</td>\n",
       "      <td>9.622976</td>\n",
       "    </tr>\n",
       "    <tr>\n",
       "      <th>3</th>\n",
       "      <td>00000d642d7e</td>\n",
       "      <td>-2.284312</td>\n",
       "      <td>-2.007486</td>\n",
       "      <td>2.463280</td>\n",
       "      <td>-11.163899</td>\n",
       "    </tr>\n",
       "    <tr>\n",
       "      <th>4</th>\n",
       "      <td>0000126b80a4</td>\n",
       "      <td>3.240862</td>\n",
       "      <td>8.357392</td>\n",
       "      <td>-4.601765</td>\n",
       "      <td>0.917920</td>\n",
       "    </tr>\n",
       "  </tbody>\n",
       "</table>\n",
       "</div>"
      ],
      "text/plain": [
       "        user_id     PCA-1      PCA-2     PCA-3      PCA-4\n",
       "0  00000077ff21 -1.853166  -3.467160 -9.751790   5.434450\n",
       "1  000006497719 -3.319304   3.297781 -6.165325  -6.646955\n",
       "2  00000b4d72f6 -4.906568  21.260171  2.429095   9.622976\n",
       "3  00000d642d7e -2.284312  -2.007486  2.463280 -11.163899\n",
       "4  0000126b80a4  3.240862   8.357392 -4.601765   0.917920"
      ]
     },
     "execution_count": 46,
     "metadata": {},
     "output_type": "execute_result"
    }
   ],
   "source": [
    "transformed = pca.transform(periods_aggregate)\n",
    "for i in range(N_COMPONENTS):\n",
    "    periods_pcaed['PCA-{}'.format(i+1)] = transformed[:, i]\n",
    "periods_pcaed.head()"
   ]
  },
  {
   "cell_type": "markdown",
   "metadata": {},
   "source": [
    "## Train periods model for predicting the deal probability"
   ]
  },
  {
   "cell_type": "code",
   "execution_count": 196,
   "metadata": {},
   "outputs": [],
   "source": [
    "all_train = train.merge(periods_pcaed, how='left', on='user_id').dropna().sort_values(by='activation_date').drop_duplicates('user_id')"
   ]
  },
  {
   "cell_type": "code",
   "execution_count": 197,
   "metadata": {},
   "outputs": [
    {
     "data": {
      "text/html": [
       "<div>\n",
       "<style scoped>\n",
       "    .dataframe tbody tr th:only-of-type {\n",
       "        vertical-align: middle;\n",
       "    }\n",
       "\n",
       "    .dataframe tbody tr th {\n",
       "        vertical-align: top;\n",
       "    }\n",
       "\n",
       "    .dataframe thead th {\n",
       "        text-align: right;\n",
       "    }\n",
       "</style>\n",
       "<table border=\"1\" class=\"dataframe\">\n",
       "  <thead>\n",
       "    <tr style=\"text-align: right;\">\n",
       "      <th></th>\n",
       "      <th>deal_probability</th>\n",
       "      <th>PCA-1</th>\n",
       "      <th>PCA-2</th>\n",
       "      <th>PCA-3</th>\n",
       "      <th>PCA-4</th>\n",
       "    </tr>\n",
       "    <tr>\n",
       "      <th>user_id</th>\n",
       "      <th></th>\n",
       "      <th></th>\n",
       "      <th></th>\n",
       "      <th></th>\n",
       "      <th></th>\n",
       "    </tr>\n",
       "  </thead>\n",
       "  <tbody>\n",
       "    <tr>\n",
       "      <th>c1f06bff5701</th>\n",
       "      <td>0.07779</td>\n",
       "      <td>5.164037</td>\n",
       "      <td>-14.613724</td>\n",
       "      <td>14.760492</td>\n",
       "      <td>5.161152</td>\n",
       "    </tr>\n",
       "    <tr>\n",
       "      <th>b4a6c1e96010</th>\n",
       "      <td>0.00000</td>\n",
       "      <td>59.419006</td>\n",
       "      <td>-5.428913</td>\n",
       "      <td>-6.634957</td>\n",
       "      <td>0.466574</td>\n",
       "    </tr>\n",
       "    <tr>\n",
       "      <th>fcef6d517dc7</th>\n",
       "      <td>0.00000</td>\n",
       "      <td>3.073294</td>\n",
       "      <td>-19.767741</td>\n",
       "      <td>-2.532982</td>\n",
       "      <td>6.852087</td>\n",
       "    </tr>\n",
       "    <tr>\n",
       "      <th>4d3f9b85cafc</th>\n",
       "      <td>0.00000</td>\n",
       "      <td>6.332746</td>\n",
       "      <td>5.667002</td>\n",
       "      <td>-0.747459</td>\n",
       "      <td>-4.096887</td>\n",
       "    </tr>\n",
       "    <tr>\n",
       "      <th>2360b7716ae8</th>\n",
       "      <td>0.14054</td>\n",
       "      <td>-4.874244</td>\n",
       "      <td>19.547995</td>\n",
       "      <td>4.854942</td>\n",
       "      <td>13.129027</td>\n",
       "    </tr>\n",
       "  </tbody>\n",
       "</table>\n",
       "</div>"
      ],
      "text/plain": [
       "              deal_probability      PCA-1      PCA-2      PCA-3      PCA-4\n",
       "user_id                                                                   \n",
       "c1f06bff5701           0.07779   5.164037 -14.613724  14.760492   5.161152\n",
       "b4a6c1e96010           0.00000  59.419006  -5.428913  -6.634957   0.466574\n",
       "fcef6d517dc7           0.00000   3.073294 -19.767741  -2.532982   6.852087\n",
       "4d3f9b85cafc           0.00000   6.332746   5.667002  -0.747459  -4.096887\n",
       "2360b7716ae8           0.14054  -4.874244  19.547995   4.854942  13.129027"
      ]
     },
     "execution_count": 197,
     "metadata": {},
     "output_type": "execute_result"
    }
   ],
   "source": [
    "all_train = all_train.set_index('user_id').drop(['item_id', 'activation_date'], axis=1)\n",
    "all_train.head()"
   ]
  },
  {
   "cell_type": "code",
   "execution_count": 198,
   "metadata": {},
   "outputs": [],
   "source": [
    "target = 'deal_probability'\n",
    "TIMEOUT_MINS = None\n",
    "X = (all_train.drop(target, axis=1)).values\n",
    "y = train[target].values\n",
    "tss = TimeSeriesSplit(n_splits=4)\n",
    "train_index, test_index = list(tss.split(X))[-1]\n",
    "X_train, X_test = X[train_index], X[test_index]\n",
    "y_train, y_test = y[train_index], y[test_index]"
   ]
  },
  {
   "cell_type": "code",
   "execution_count": 199,
   "metadata": {},
   "outputs": [],
   "source": [
    "model = RandomForestRegressor(n_estimators=30, random_state=SEED)"
   ]
  },
  {
   "cell_type": "code",
   "execution_count": 200,
   "metadata": {},
   "outputs": [
    {
     "data": {
      "text/plain": [
       "RandomForestRegressor(bootstrap=True, criterion='mse', max_depth=None,\n",
       "           max_features='auto', max_leaf_nodes=None,\n",
       "           min_impurity_decrease=0.0, min_impurity_split=None,\n",
       "           min_samples_leaf=1, min_samples_split=2,\n",
       "           min_weight_fraction_leaf=0.0, n_estimators=30, n_jobs=1,\n",
       "           oob_score=False, random_state=13, verbose=0, warm_start=False)"
      ]
     },
     "execution_count": 200,
     "metadata": {},
     "output_type": "execute_result"
    }
   ],
   "source": [
    "model.fit(X_train, y_train)"
   ]
  },
  {
   "cell_type": "code",
   "execution_count": 201,
   "metadata": {},
   "outputs": [],
   "source": [
    "feat_importance_entropy = list(zip(all_train.drop(target, axis=1).columns.values, model.feature_importances_))"
   ]
  },
  {
   "cell_type": "code",
   "execution_count": 202,
   "metadata": {},
   "outputs": [
    {
     "data": {
      "text/plain": [
       "[('PCA-4', 0.2557640548974488),\n",
       " ('PCA-3', 0.2514286407203288),\n",
       " ('PCA-1', 0.24698005902520911),\n",
       " ('PCA-2', 0.24582724535701334)]"
      ]
     },
     "execution_count": 202,
     "metadata": {},
     "output_type": "execute_result"
    }
   ],
   "source": [
    "sorted(list(feat_importance_entropy), key=lambda x:x[1], reverse=True)"
   ]
  },
  {
   "cell_type": "code",
   "execution_count": 203,
   "metadata": {},
   "outputs": [
    {
     "data": {
      "text/plain": [
       "0.2697593790373699"
      ]
     },
     "execution_count": 203,
     "metadata": {},
     "output_type": "execute_result"
    }
   ],
   "source": [
    "rmse = np.sqrt(np.mean((model.predict(X_test) - y_test) ** 2))\n",
    "rmse"
   ]
  },
  {
   "cell_type": "code",
   "execution_count": 18,
   "metadata": {},
   "outputs": [
    {
     "name": "stdout",
     "output_type": "stream",
     "text": [
      "0.146344028721509\n",
      "0.13807633924958085\n"
     ]
    },
    {
     "data": {
      "text/plain": [
       "<matplotlib.legend.Legend at 0x116ce3f60>"
      ]
     },
     "execution_count": 18,
     "metadata": {},
     "output_type": "execute_result"
    },
    {
     "data": {
      "image/png": "[encoded data removed]",
      "text/plain": [
       "<matplotlib.figure.Figure at 0x113c109b0>"
      ]
     },
     "metadata": {},
     "output_type": "display_data"
    }
   ],
   "source": [
    "ax = plt.hist((model.predict(X_test), y_test), log=True, bins=100);\n",
    "print(model.predict(X_test).mean())\n",
    "print(y_test.mean())\n",
    "plt.legend(labels=['predicted', 'true'])"
   ]
  },
  {
   "cell_type": "code",
   "execution_count": 231,
   "metadata": {},
   "outputs": [],
   "source": [
    "for i in range(N_COMPONENTS):\n",
    "    all_train['group{}'.format(i+1)] = pd.qcut(all_train['PCA-{}'.format(i+1)], q=100)"
   ]
  },
  {
   "cell_type": "code",
   "execution_count": 238,
   "metadata": {},
   "outputs": [
    {
     "data": {
      "image/png": "[encoded data removed]",
      "text/plain": [
       "<matplotlib.figure.Figure at 0x1a5fbdb38>"
      ]
     },
     "metadata": {},
     "output_type": "display_data"
    }
   ],
   "source": [
    "PCA_NUMBER = 4\n",
    "sns.set_context(\"poster\", font_scale=1.3)\n",
    "all_train.groupby('group{}'.format(PCA_NUMBER)).mean().reset_index().plot(\n",
    "    kind='scatter', x='PCA-{}'.format(PCA_NUMBER), y='deal_probability', s=50);\n",
    "plt.xlabel('PCA-{} 100 quantiles means'.format(PCA_NUMBER));\n",
    "plt.ylabel('mean deal_probability');"
   ]
  },
  {
   "cell_type": "markdown",
   "metadata": {},
   "source": [
    "## Train a secondary model to learn PCA-1, etc features for the remaining users"
   ]
  },
  {
   "cell_type": "code",
   "execution_count": 27,
   "metadata": {},
   "outputs": [
    {
     "data": {
      "text/html": [
       "<div>\n",
       "<style scoped>\n",
       "    .dataframe tbody tr th:only-of-type {\n",
       "        vertical-align: middle;\n",
       "    }\n",
       "\n",
       "    .dataframe tbody tr th {\n",
       "        vertical-align: top;\n",
       "    }\n",
       "\n",
       "    .dataframe thead th {\n",
       "        text-align: right;\n",
       "    }\n",
       "</style>\n",
       "<table border=\"1\" class=\"dataframe\">\n",
       "  <thead>\n",
       "    <tr style=\"text-align: right;\">\n",
       "      <th></th>\n",
       "      <th>user_id</th>\n",
       "      <th>pca_targets</th>\n",
       "    </tr>\n",
       "  </thead>\n",
       "  <tbody>\n",
       "    <tr>\n",
       "      <th>0</th>\n",
       "      <td>00000077ff21</td>\n",
       "      <td>(-1.8531663700284557, -3.46716036992249, -9.75...</td>\n",
       "    </tr>\n",
       "    <tr>\n",
       "      <th>1</th>\n",
       "      <td>000006497719</td>\n",
       "      <td>(-3.3193044553138944, 3.297781353985595, -6.16...</td>\n",
       "    </tr>\n",
       "    <tr>\n",
       "      <th>2</th>\n",
       "      <td>00000b4d72f6</td>\n",
       "      <td>(-4.90656834172024, 21.26017101521711, 2.42909...</td>\n",
       "    </tr>\n",
       "    <tr>\n",
       "      <th>3</th>\n",
       "      <td>00000d642d7e</td>\n",
       "      <td>(-2.2843116144915814, -2.00748581785741, 2.463...</td>\n",
       "    </tr>\n",
       "    <tr>\n",
       "      <th>4</th>\n",
       "      <td>0000126b80a4</td>\n",
       "      <td>(3.240861573633959, 8.357391994594222, -4.6017...</td>\n",
       "    </tr>\n",
       "  </tbody>\n",
       "</table>\n",
       "</div>"
      ],
      "text/plain": [
       "        user_id                                        pca_targets\n",
       "0  00000077ff21  (-1.8531663700284557, -3.46716036992249, -9.75...\n",
       "1  000006497719  (-3.3193044553138944, 3.297781353985595, -6.16...\n",
       "2  00000b4d72f6  (-4.90656834172024, 21.26017101521711, 2.42909...\n",
       "3  00000d642d7e  (-2.2843116144915814, -2.00748581785741, 2.463...\n",
       "4  0000126b80a4  (3.240861573633959, 8.357391994594222, -4.6017..."
      ]
     },
     "execution_count": 27,
     "metadata": {},
     "output_type": "execute_result"
    }
   ],
   "source": [
    "train_pcas = pd.DataFrame()\n",
    "train_pcas['user_id'] = periods_pcaed['user_id']\n",
    "meta_target = []\n",
    "for i in range(N_COMPONENTS):\n",
    "    meta_target.append(list(periods_pcaed['PCA-{}'.format(i+1)].values))\n",
    "train_pcas['pca_targets'] = list(zip(*meta_target))\n",
    "train_pcas.head()"
   ]
  },
  {
   "cell_type": "code",
   "execution_count": 28,
   "metadata": {},
   "outputs": [
    {
     "data": {
      "text/plain": [
       "(-1.8531663700284557, -3.46716036992249, -9.751790191086595, 5.434449905823733)"
      ]
     },
     "execution_count": 28,
     "metadata": {},
     "output_type": "execute_result"
    }
   ],
   "source": [
    "train_pcas['pca_targets'][0]"
   ]
  },
  {
   "cell_type": "code",
   "execution_count": 29,
   "metadata": {},
   "outputs": [],
   "source": [
    "all_samples_user = all_samples.set_index('user_id').sort_values(by='activation_date').drop(['item_id', 'activation_date'], axis=1)"
   ]
  },
  {
   "cell_type": "code",
   "execution_count": 31,
   "metadata": {},
   "outputs": [],
   "source": [
    "for feat in ['region', 'city', 'parent_category_name', 'category_name', 'user_type']:\n",
    "    all_samples_user[feat] = all_samples_user[feat].astype('category').cat.codes"
   ]
  },
  {
   "cell_type": "code",
   "execution_count": 32,
   "metadata": {},
   "outputs": [
    {
     "data": {
      "text/html": [
       "<div>\n",
       "<style scoped>\n",
       "    .dataframe tbody tr th:only-of-type {\n",
       "        vertical-align: middle;\n",
       "    }\n",
       "\n",
       "    .dataframe tbody tr th {\n",
       "        vertical-align: top;\n",
       "    }\n",
       "\n",
       "    .dataframe thead th {\n",
       "        text-align: right;\n",
       "    }\n",
       "</style>\n",
       "<table border=\"1\" class=\"dataframe\">\n",
       "  <thead>\n",
       "    <tr style=\"text-align: right;\">\n",
       "      <th></th>\n",
       "      <th>region</th>\n",
       "      <th>city</th>\n",
       "      <th>parent_category_name</th>\n",
       "      <th>category_name</th>\n",
       "      <th>user_type</th>\n",
       "      <th>price_norm</th>\n",
       "    </tr>\n",
       "    <tr>\n",
       "      <th>user_id</th>\n",
       "      <th></th>\n",
       "      <th></th>\n",
       "      <th></th>\n",
       "      <th></th>\n",
       "      <th></th>\n",
       "      <th></th>\n",
       "    </tr>\n",
       "  </thead>\n",
       "  <tbody>\n",
       "    <tr>\n",
       "      <th>1b48714c40c5</th>\n",
       "      <td>13</td>\n",
       "      <td>1133</td>\n",
       "      <td>2</td>\n",
       "      <td>4</td>\n",
       "      <td>0</td>\n",
       "      <td>-0.308250</td>\n",
       "    </tr>\n",
       "    <tr>\n",
       "      <th>1d4842a5fcf7</th>\n",
       "      <td>1</td>\n",
       "      <td>1634</td>\n",
       "      <td>1</td>\n",
       "      <td>28</td>\n",
       "      <td>2</td>\n",
       "      <td>0.471035</td>\n",
       "    </tr>\n",
       "    <tr>\n",
       "      <th>1f35fbd2efcb</th>\n",
       "      <td>21</td>\n",
       "      <td>996</td>\n",
       "      <td>4</td>\n",
       "      <td>10</td>\n",
       "      <td>1</td>\n",
       "      <td>0.101002</td>\n",
       "    </tr>\n",
       "    <tr>\n",
       "      <th>450858826d03</th>\n",
       "      <td>10</td>\n",
       "      <td>766</td>\n",
       "      <td>4</td>\n",
       "      <td>29</td>\n",
       "      <td>1</td>\n",
       "      <td>0.180346</td>\n",
       "    </tr>\n",
       "    <tr>\n",
       "      <th>1effdc345faf</th>\n",
       "      <td>6</td>\n",
       "      <td>576</td>\n",
       "      <td>5</td>\n",
       "      <td>15</td>\n",
       "      <td>0</td>\n",
       "      <td>0.430386</td>\n",
       "    </tr>\n",
       "  </tbody>\n",
       "</table>\n",
       "</div>"
      ],
      "text/plain": [
       "              region  city  parent_category_name  category_name  user_type  \\\n",
       "user_id                                                                      \n",
       "1b48714c40c5      13  1133                     2              4          0   \n",
       "1d4842a5fcf7       1  1634                     1             28          2   \n",
       "1f35fbd2efcb      21   996                     4             10          1   \n",
       "450858826d03      10   766                     4             29          1   \n",
       "1effdc345faf       6   576                     5             15          0   \n",
       "\n",
       "              price_norm  \n",
       "user_id                   \n",
       "1b48714c40c5   -0.308250  \n",
       "1d4842a5fcf7    0.471035  \n",
       "1f35fbd2efcb    0.101002  \n",
       "450858826d03    0.180346  \n",
       "1effdc345faf    0.430386  "
      ]
     },
     "execution_count": 32,
     "metadata": {},
     "output_type": "execute_result"
    }
   ],
   "source": [
    "all_samples_user.head()"
   ]
  },
  {
   "cell_type": "code",
   "execution_count": 36,
   "metadata": {},
   "outputs": [],
   "source": [
    "train_pcas = train_pcas.merge(all_samples_user.reset_index(), on='user_id', how='left').drop_duplicates('user_id').set_index('user_id')"
   ]
  },
  {
   "cell_type": "code",
   "execution_count": 84,
   "metadata": {},
   "outputs": [],
   "source": [
    "target = 'pca_targets'\n",
    "X_train_pca, X_test_pca, y_train_pca, y_test_pca = train_test_split(train_pcas.drop(target, axis=1).values, train_pcas[target].tolist(), random_state=SEED)"
   ]
  },
  {
   "cell_type": "code",
   "execution_count": 85,
   "metadata": {},
   "outputs": [],
   "source": [
    "model_pca = RandomForestRegressor(n_estimators=30, random_state=SEED)\n",
    "multi_target_model_pca = MultiOutputRegressor(model_pca)"
   ]
  },
  {
   "cell_type": "code",
   "execution_count": 86,
   "metadata": {},
   "outputs": [
    {
     "data": {
      "text/plain": [
       "MultiOutputRegressor(estimator=RandomForestRegressor(bootstrap=True, criterion='mse', max_depth=None,\n",
       "           max_features='auto', max_leaf_nodes=None,\n",
       "           min_impurity_decrease=0.0, min_impurity_split=None,\n",
       "           min_samples_leaf=1, min_samples_split=2,\n",
       "           min_weight_fraction_leaf=0.0, n_estimators=30, n_jobs=1,\n",
       "           oob_score=False, random_state=13, verbose=0, warm_start=False),\n",
       "           n_jobs=1)"
      ]
     },
     "execution_count": 86,
     "metadata": {},
     "output_type": "execute_result"
    }
   ],
   "source": [
    "multi_target_model_pca.fit(X_train_pca, y_train_pca)"
   ]
  },
  {
   "cell_type": "markdown",
   "metadata": {},
   "source": [
    "## Fill out the missing user info (in both train and test) by the secondary trained model"
   ]
  },
  {
   "cell_type": "code",
   "execution_count": 93,
   "metadata": {},
   "outputs": [],
   "source": [
    "train_final = train.merge(train_pcas.reset_index(), how='left', on='user_id')"
   ]
  },
  {
   "cell_type": "code",
   "execution_count": 109,
   "metadata": {},
   "outputs": [],
   "source": [
    "train_null = train_final[train_final['pca_targets'].isna()][['user_id']]"
   ]
  },
  {
   "cell_type": "code",
   "execution_count": 110,
   "metadata": {},
   "outputs": [],
   "source": [
    "train_null = train_null.merge(all_samples_user.reset_index(), how='left', on='user_id')"
   ]
  },
  {
   "cell_type": "code",
   "execution_count": 113,
   "metadata": {},
   "outputs": [],
   "source": [
    "train_null = train_null.drop_duplicates('user_id').set_index('user_id')"
   ]
  },
  {
   "cell_type": "code",
   "execution_count": 115,
   "metadata": {},
   "outputs": [],
   "source": [
    "targets = multi_target_model_pca.predict(train_null.values)"
   ]
  },
  {
   "cell_type": "code",
   "execution_count": 118,
   "metadata": {},
   "outputs": [],
   "source": [
    "for i in range(N_COMPONENTS):\n",
    "    train_null['PCA-{}'.format(i+1)] = [t[i] for t in targets]"
   ]
  },
  {
   "cell_type": "code",
   "execution_count": 130,
   "metadata": {},
   "outputs": [],
   "source": [
    "train_final = pd.concat([train_null[['PCA-{}'.format(i+1) for i in range(N_COMPONENTS)]], all_train.drop('deal_probability', axis=1)]).reset_index()"
   ]
  },
  {
   "cell_type": "code",
   "execution_count": 136,
   "metadata": {},
   "outputs": [],
   "source": [
    "train_final = train[['user_id', 'item_id', 'deal_probability']].merge(train_final, how='left', on='user_id')"
   ]
  },
  {
   "cell_type": "code",
   "execution_count": 137,
   "metadata": {},
   "outputs": [
    {
     "data": {
      "text/plain": [
       "1503424"
      ]
     },
     "execution_count": 137,
     "metadata": {},
     "output_type": "execute_result"
    }
   ],
   "source": [
    "len(train_final)"
   ]
  },
  {
   "cell_type": "code",
   "execution_count": null,
   "metadata": {},
   "outputs": [],
   "source": []
  },
  {
   "cell_type": "code",
   "execution_count": 164,
   "metadata": {},
   "outputs": [],
   "source": [
    "test_pcas = periods_pcaed.copy()"
   ]
  },
  {
   "cell_type": "code",
   "execution_count": 165,
   "metadata": {},
   "outputs": [
    {
     "data": {
      "text/html": [
       "<div>\n",
       "<style scoped>\n",
       "    .dataframe tbody tr th:only-of-type {\n",
       "        vertical-align: middle;\n",
       "    }\n",
       "\n",
       "    .dataframe tbody tr th {\n",
       "        vertical-align: top;\n",
       "    }\n",
       "\n",
       "    .dataframe thead th {\n",
       "        text-align: right;\n",
       "    }\n",
       "</style>\n",
       "<table border=\"1\" class=\"dataframe\">\n",
       "  <thead>\n",
       "    <tr style=\"text-align: right;\">\n",
       "      <th></th>\n",
       "      <th>PCA-1</th>\n",
       "      <th>PCA-2</th>\n",
       "      <th>PCA-3</th>\n",
       "      <th>PCA-4</th>\n",
       "      <th>region</th>\n",
       "      <th>city</th>\n",
       "      <th>parent_category_name</th>\n",
       "      <th>category_name</th>\n",
       "      <th>user_type</th>\n",
       "      <th>price_norm</th>\n",
       "    </tr>\n",
       "    <tr>\n",
       "      <th>user_id</th>\n",
       "      <th></th>\n",
       "      <th></th>\n",
       "      <th></th>\n",
       "      <th></th>\n",
       "      <th></th>\n",
       "      <th></th>\n",
       "      <th></th>\n",
       "      <th></th>\n",
       "      <th></th>\n",
       "      <th></th>\n",
       "    </tr>\n",
       "  </thead>\n",
       "  <tbody>\n",
       "    <tr>\n",
       "      <th>00000077ff21</th>\n",
       "      <td>-1.853166</td>\n",
       "      <td>-3.467160</td>\n",
       "      <td>-9.751790</td>\n",
       "      <td>5.434450</td>\n",
       "      <td>13</td>\n",
       "      <td>1133</td>\n",
       "      <td>0</td>\n",
       "      <td>41</td>\n",
       "      <td>1</td>\n",
       "      <td>0.429863</td>\n",
       "    </tr>\n",
       "    <tr>\n",
       "      <th>000006497719</th>\n",
       "      <td>-3.319304</td>\n",
       "      <td>3.297781</td>\n",
       "      <td>-6.165325</td>\n",
       "      <td>-6.646955</td>\n",
       "      <td>9</td>\n",
       "      <td>1427</td>\n",
       "      <td>5</td>\n",
       "      <td>15</td>\n",
       "      <td>1</td>\n",
       "      <td>0.443040</td>\n",
       "    </tr>\n",
       "    <tr>\n",
       "      <th>00000b4d72f6</th>\n",
       "      <td>-4.906568</td>\n",
       "      <td>21.260171</td>\n",
       "      <td>2.429095</td>\n",
       "      <td>9.622976</td>\n",
       "      <td>21</td>\n",
       "      <td>510</td>\n",
       "      <td>6</td>\n",
       "      <td>0</td>\n",
       "      <td>1</td>\n",
       "      <td>-0.374357</td>\n",
       "    </tr>\n",
       "    <tr>\n",
       "      <th>00000d642d7e</th>\n",
       "      <td>-2.284312</td>\n",
       "      <td>-2.007486</td>\n",
       "      <td>2.463280</td>\n",
       "      <td>-11.163899</td>\n",
       "      <td>17</td>\n",
       "      <td>1337</td>\n",
       "      <td>7</td>\n",
       "      <td>34</td>\n",
       "      <td>1</td>\n",
       "      <td>1.075971</td>\n",
       "    </tr>\n",
       "    <tr>\n",
       "      <th>0000126b80a4</th>\n",
       "      <td>3.240862</td>\n",
       "      <td>8.357392</td>\n",
       "      <td>-4.601765</td>\n",
       "      <td>0.917920</td>\n",
       "      <td>6</td>\n",
       "      <td>576</td>\n",
       "      <td>4</td>\n",
       "      <td>21</td>\n",
       "      <td>1</td>\n",
       "      <td>-0.906617</td>\n",
       "    </tr>\n",
       "  </tbody>\n",
       "</table>\n",
       "</div>"
      ],
      "text/plain": [
       "                 PCA-1      PCA-2     PCA-3      PCA-4  region  city  \\\n",
       "user_id                                                                \n",
       "00000077ff21 -1.853166  -3.467160 -9.751790   5.434450      13  1133   \n",
       "000006497719 -3.319304   3.297781 -6.165325  -6.646955       9  1427   \n",
       "00000b4d72f6 -4.906568  21.260171  2.429095   9.622976      21   510   \n",
       "00000d642d7e -2.284312  -2.007486  2.463280 -11.163899      17  1337   \n",
       "0000126b80a4  3.240862   8.357392 -4.601765   0.917920       6   576   \n",
       "\n",
       "              parent_category_name  category_name  user_type  price_norm  \n",
       "user_id                                                                   \n",
       "00000077ff21                     0             41          1    0.429863  \n",
       "000006497719                     5             15          1    0.443040  \n",
       "00000b4d72f6                     6              0          1   -0.374357  \n",
       "00000d642d7e                     7             34          1    1.075971  \n",
       "0000126b80a4                     4             21          1   -0.906617  "
      ]
     },
     "execution_count": 165,
     "metadata": {},
     "output_type": "execute_result"
    }
   ],
   "source": [
    "test_pcas = test_pcas.merge(all_samples_user.reset_index(), on='user_id', how='left').drop_duplicates('user_id').set_index('user_id')\n",
    "test_pcas.head()"
   ]
  },
  {
   "cell_type": "code",
   "execution_count": 166,
   "metadata": {},
   "outputs": [],
   "source": [
    "test_final = test.merge(test_pcas.reset_index(), how='left', on='user_id')"
   ]
  },
  {
   "cell_type": "code",
   "execution_count": 167,
   "metadata": {},
   "outputs": [],
   "source": [
    "test_null = test_final[test_final['PCA-1'].isna()][['user_id']]"
   ]
  },
  {
   "cell_type": "code",
   "execution_count": 168,
   "metadata": {},
   "outputs": [],
   "source": [
    "test_null = test_null.merge(all_samples_user.reset_index(), how='left', on='user_id')"
   ]
  },
  {
   "cell_type": "code",
   "execution_count": 169,
   "metadata": {},
   "outputs": [],
   "source": [
    "test_null = test_null.drop_duplicates('user_id').set_index('user_id')"
   ]
  },
  {
   "cell_type": "code",
   "execution_count": 170,
   "metadata": {},
   "outputs": [],
   "source": [
    "targets = multi_target_model_pca.predict(test_null.values)"
   ]
  },
  {
   "cell_type": "code",
   "execution_count": 171,
   "metadata": {},
   "outputs": [],
   "source": [
    "for i in range(N_COMPONENTS):\n",
    "    test_null['PCA-{}'.format(i+1)] = [t[i] for t in targets]"
   ]
  },
  {
   "cell_type": "code",
   "execution_count": 180,
   "metadata": {},
   "outputs": [],
   "source": [
    "test_final = pd.concat([test_null[['PCA-{}'.format(i+1) for i in range(N_COMPONENTS)]], periods_pcaed.set_index('user_id')]).reset_index()"
   ]
  },
  {
   "cell_type": "code",
   "execution_count": 182,
   "metadata": {},
   "outputs": [],
   "source": [
    "test_final = test[['user_id', 'item_id']].merge(test_final, how='left', on='user_id')"
   ]
  },
  {
   "cell_type": "code",
   "execution_count": null,
   "metadata": {},
   "outputs": [],
   "source": []
  },
  {
   "cell_type": "markdown",
   "metadata": {},
   "source": [
    "## Doing a final prediction for both train and test"
   ]
  },
  {
   "cell_type": "code",
   "execution_count": 204,
   "metadata": {},
   "outputs": [],
   "source": [
    "train_final['deal_probability'] = model.predict(train_final.drop(['user_id', 'deal_probability'], axis=1).set_index('item_id').values)"
   ]
  },
  {
   "cell_type": "code",
   "execution_count": 219,
   "metadata": {},
   "outputs": [],
   "source": [
    "train_final.set_index('item_id').to_csv('data/train_periods_PCAs.csv')"
   ]
  },
  {
   "cell_type": "code",
   "execution_count": 211,
   "metadata": {},
   "outputs": [],
   "source": [
    "train_final.set_index('item_id')[['deal_probability']].to_csv('predictions/periods_train.csv')"
   ]
  },
  {
   "cell_type": "code",
   "execution_count": 229,
   "metadata": {},
   "outputs": [
    {
     "data": {
      "image/png": "[encoded data removed]",
      "text/plain": [
       "<matplotlib.figure.Figure at 0x205a6b2e8>"
      ]
     },
     "metadata": {},
     "output_type": "display_data"
    }
   ],
   "source": [
    "ax = plt.hist((train_final['deal_probability'], train['deal_probability']), log=True, bins=50);\n",
    "plt.legend(labels=['predicted', 'true']);"
   ]
  },
  {
   "cell_type": "code",
   "execution_count": null,
   "metadata": {},
   "outputs": [],
   "source": []
  },
  {
   "cell_type": "code",
   "execution_count": 214,
   "metadata": {},
   "outputs": [],
   "source": [
    "test_final['deal_probability'] = model.predict(test_final.drop(['user_id'], axis=1).set_index('item_id').values)"
   ]
  },
  {
   "cell_type": "code",
   "execution_count": 215,
   "metadata": {},
   "outputs": [],
   "source": [
    "test_final.set_index('item_id')[['deal_probability']].to_csv('predictions/periods.csv')"
   ]
  },
  {
   "cell_type": "code",
   "execution_count": 220,
   "metadata": {},
   "outputs": [],
   "source": [
    "test_final.set_index('item_id').to_csv('data/test_periods_PCAs.csv')"
   ]
  },
  {
   "cell_type": "code",
   "execution_count": null,
   "metadata": {},
   "outputs": [],
   "source": []
  },
  {
   "cell_type": "markdown",
   "metadata": {},
   "source": [
    "## Save the models"
   ]
  },
  {
   "cell_type": "code",
   "execution_count": 222,
   "metadata": {},
   "outputs": [],
   "source": [
    "import pickle\n",
    "pickle.dump(model, open('saved_models/periods_rf.pickle', 'wb'))\n",
    "pickle.dump(multi_target_model_pca, open('saved_models/periods_PCAs.pickle', 'wb'))"
   ]
  },
  {
   "cell_type": "markdown",
   "metadata": {},
   "source": [
    "## Load the models"
   ]
  },
  {
   "cell_type": "code",
   "execution_count": null,
   "metadata": {},
   "outputs": [],
   "source": [
    "# import pickle\n",
    "# model = pickle.load(open('saved_models/periods_rf.pickle', 'rb'))\n",
    "# multi_target_model_pca = pickle.load(open('saved_models/periods_PCAs.pickle', 'rb'))"
   ]
  }
 ],
 "metadata": {
  "kernelspec": {
   "display_name": "Python 3",
   "language": "python",
   "name": "python3"
  },
  "language_info": {
   "codemirror_mode": {
    "name": "ipython",
    "version": 3
   },
   "file_extension": ".py",
   "mimetype": "text/x-python",
   "name": "python",
   "nbconvert_exporter": "python",
   "pygments_lexer": "ipython3",
   "version": "3.6.4"
  }
 },
 "nbformat": 4,
 "nbformat_minor": 2
}
